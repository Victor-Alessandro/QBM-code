{
 "cells": [
  {
   "attachments": {},
   "cell_type": "markdown",
   "id": "52af13c7",
   "metadata": {},
   "source": [
    "## CLASSICAL DYNAMICS SIMULATION"
   ]
  },
  {
   "cell_type": "code",
   "execution_count": 86,
   "id": "83126120",
   "metadata": {},
   "outputs": [],
   "source": [
    "import numpy as np\n",
    "import matplotlib.pyplot as plt\n",
    "import matplotlib.transforms as mtransforms"
   ]
  },
  {
   "cell_type": "code",
   "execution_count": 87,
   "id": "ce78fba5",
   "metadata": {},
   "outputs": [],
   "source": [
    "def generate_weights_random(N, w, h, sigma, seed):\n",
    "    '''Generates a symmetric random weights array drawn from a normal distribution for a given seed'''\n",
    "    rng = np.random.default_rng(seed)                    #  set random seed for reproduciblity\n",
    "    W_assym = rng.normal(w/N, sigma/(N**(1/2)),(N, N))   #  get normal distributed weight matrix\n",
    "    W = (W_assym+ W_assym.T)/2                           #  symmetrize the random matrix \n",
    "    H = rng.normal(h/N, sigma/(N**(1/2)),(N))            #  get normal distributed H\n",
    "    return W , H\n",
    "\n",
    "\n",
    "def get_W_from_H(N, w, h, sigma, seed):\n",
    "    \"\"\"Calculates the transition matrix for all state transition from the Hamiltonian\"\"\"\n",
    "    W, H = generate_weights_random(N, w, h, sigma, seed) # get random parameters\n",
    "    W_trans = np.zeros((2**N,2**N))                      # matrix to store all allowed transitions\n",
    "    \n",
    "    for s in np.ndindex((N, N)):\n",
    "        s = np.array(s)\n",
    "\n",
    "        for s_prime in np.ndindex((2, 2)):\n",
    "            s_prime = np.array(s_prime)\n",
    "\n",
    "\n",
    "            g = np.exp(-np.dot(s_prime,(H + W @ s)))                # obtain probabilities of flips\n",
    "\n",
    "\n",
    "            W_trans[int(''.join(map(str, s)),2)][int(''.join(map(str, s_prime)),2)] = g          # convert base 2 state to base 10 and store transition probability \n",
    "\n",
    "    # NORMALIZE THE WHOLE THING AT THE END.\n",
    "    return W_trans"
   ]
  },
  {
   "cell_type": "code",
   "execution_count": 121,
   "id": "a1ba37e3",
   "metadata": {},
   "outputs": [],
   "source": [
    "def discrete_time_dynamics(N, w, h, sigma, seed, t_vals,):\n",
    "    \"\"\"\n",
    "    Get transition matrix from parameters; use it to update dyamics\n",
    "    \"\"\"\n",
    "    l = t_vals.shape[0]                             # amount of iterations\n",
    "    s_vals = np.zeros((l,2))                        # array to store values\n",
    "    W = get_W_from_H(N, w, h, sigma, seed)          # get transition matrix\n",
    "\n",
    "    s = np.random.randint(N)                        # initialize spin state in base 10\n",
    "\n",
    "    for i in range(l):          \n",
    "        yolo  = 1                    \n",
    "\n",
    "    if s == 0:\n",
    "        g1 = 0         #\n",
    "        g2 = W[s][s+1]\n",
    "    elif s == 3:\n",
    "        g1 = W[s][s-1]\n",
    "        g2 = 0\n",
    "    else:\n",
    "        g1 = W[s][s-1]\n",
    "        g2 = W[s][s+1]\n",
    "        \n",
    "        p = np.random.rand()\n",
    "        if 0 < p < g1:                              # flip spin 1\n",
    "            s[0] = 1 - s[0]\n",
    "            \n",
    "        if g1 < p < (g1+ g2):                       # flip spin 2\n",
    "            s[1] = 1 - s[1]\n",
    "\n",
    "        if (g1+g2) < p < 1:                         # no flip\n",
    "            pass                        \n",
    "\n",
    "    s_vals[i] = s                                 \n",
    "    return s_vals\n",
    "\n",
    "def generate_states(s_vals, t_vals):\n",
    "    \"\"\"Convert back to 0,1 formalism\"\"\"\n",
    "    states = np.zeros(len(t_vals))\n",
    "    for i in range(len(t_vals)):\n",
    "        if s_vals[i][0] == 0 and s_vals[i][1] == 0:\n",
    "            states[i] = 0\n",
    "\n",
    "        if s_vals[i][0] == 0 and s_vals[i][1] == 1:\n",
    "            states[i] = 1\n",
    "\n",
    "        if s_vals[i][0] == 1 and s_vals[i][1] == 0:\n",
    "            states[i] = 2\n",
    "\n",
    "        if s_vals[i][0] == 1 and s_vals[i][1] == 1:\n",
    "            states[i] = 3\n",
    "            \n",
    "    return states\n",
    "        "
   ]
  },
  {
   "cell_type": "code",
   "execution_count": 122,
   "id": "7d1b058c",
   "metadata": {},
   "outputs": [],
   "source": [
    "def plot_dynamics(s_vals, t_vals):\n",
    "    fig = plt.figure(figsize=(25, 6));                           #  make plots\n",
    "    fig.suptitle(\"WHOOOO\", fontsize=30, y = 1)\n",
    "    trans = mtransforms.ScaledTranslation(-20/72, 7/72, fig.dpi_scale_trans)\n",
    "\n",
    "    states = generate_states(s_vals,t_vals)\n",
    "    s1s2 = s_vals[:,0] * s_vals[:,1]\n",
    "\n",
    "\n",
    "    ax1 = fig.add_subplot(1, 2, 1)\n",
    "    ax1.plot(t_vals,states)\n",
    "    ax1.set_xlabel(\"time\", fontsize=20)\n",
    "    ax1.set_ylabel(\"states\", fontsize=20)\n",
    "    \n",
    "    ax2 = fig.add_subplot(1, 2, 2)\n",
    "    ax2.plot(t_vals,s_vals[:,0])\n",
    "    ax2.plot(t_vals,s_vals[:,1])\n",
    "    ax2.plot(t_vals,s1s2)\n",
    "    ax2.set_xlabel(\"time\", fontsize=20)\n",
    "    ax2.set_ylabel(\"states\", fontsize=20)"
   ]
  },
  {
   "cell_type": "code",
   "execution_count": 123,
   "id": "5a2b33d7",
   "metadata": {},
   "outputs": [],
   "source": [
    "#PARAMETERS\n",
    "N  = 2\n",
    "w = 1\n",
    "h = 1\n",
    "sigma = 0.3\n",
    "seed = 777\n",
    "\n",
    "dt = 0.01  #discrete time steps of simulation\n",
    "sim_time = 2 #time simulation should run\n",
    "t_vals = np.arange(0,sim_time,dt)"
   ]
  },
  {
   "cell_type": "code",
   "execution_count": 124,
   "id": "9652ad15",
   "metadata": {},
   "outputs": [
    {
     "name": "stdout",
     "output_type": "stream",
     "text": [
      "[[1.         0.67007421 0.53037843 0.35539291]\n",
      " [1.         0.56868606 0.36467315 0.20738454]\n",
      " [1.         0.46072401 0.38505106 0.17740227]\n",
      " [1.         0.39101239 0.26475018 0.1035206 ]]\n"
     ]
    }
   ],
   "source": [
    "print(W)"
   ]
  },
  {
   "cell_type": "code",
   "execution_count": 125,
   "id": "7406f3b9",
   "metadata": {},
   "outputs": [
    {
     "name": "stdout",
     "output_type": "stream",
     "text": [
      "[[1.         0.67007421 0.53037843 0.35539291]\n",
      " [1.         0.56868606 0.36467315 0.20738454]\n",
      " [1.         0.46072401 0.38505106 0.17740227]\n",
      " [1.         0.39101239 0.26475018 0.1035206 ]]\n",
      "(4, 4)\n"
     ]
    },
    {
     "ename": "IndexError",
     "evalue": "index 3 is out of bounds for axis 0 with size 2",
     "output_type": "error",
     "traceback": [
      "\u001b[0;31m---------------------------------------------------------------------------\u001b[0m",
      "\u001b[0;31mIndexError\u001b[0m                                Traceback (most recent call last)",
      "Cell \u001b[0;32mIn[125], line 1\u001b[0m\n\u001b[0;32m----> 1\u001b[0m s \u001b[39m=\u001b[39m discrete_time_dynamics(N, w, h, sigma, seed, t_vals,)\n\u001b[1;32m      2\u001b[0m plot_dynamics(s,t_vals)\n",
      "Cell \u001b[0;32mIn[121], line 20\u001b[0m, in \u001b[0;36mdiscrete_time_dynamics\u001b[0;34m(N, w, h, sigma, seed, t_vals)\u001b[0m\n\u001b[1;32m     18\u001b[0m \u001b[39mif\u001b[39;00m s[\u001b[39m1\u001b[39m] \u001b[39m==\u001b[39m \u001b[39m0\u001b[39m:                               \u001b[39m# probability of transitioning to state with 2nd spin flipped\u001b[39;00m\n\u001b[1;32m     19\u001b[0m     \u001b[39mprint\u001b[39m(W\u001b[39m.\u001b[39mshape)\n\u001b[0;32m---> 20\u001b[0m     g2 \u001b[39m=\u001b[39m W[s][\u001b[39m3\u001b[39;49m]                            \n\u001b[1;32m     21\u001b[0m \u001b[39melse\u001b[39;00m:\n\u001b[1;32m     22\u001b[0m     g2 \u001b[39m=\u001b[39m W[s][\u001b[39m2\u001b[39m]\n",
      "\u001b[0;31mIndexError\u001b[0m: index 3 is out of bounds for axis 0 with size 2"
     ]
    }
   ],
   "source": [
    "s = discrete_time_dynamics(N, w, h, sigma, seed, t_vals,)\n",
    "plot_dynamics(s,t_vals)"
   ]
  },
  {
   "cell_type": "code",
   "execution_count": 93,
   "id": "e487cdcf",
   "metadata": {},
   "outputs": [
    {
     "data": {
      "text/plain": [
       "0.17740226779330676"
      ]
     },
     "execution_count": 93,
     "metadata": {},
     "output_type": "execute_result"
    }
   ],
   "source": [
    "W = get_W_from_H(N, w, h, sigma, seed)          # get transition matrix\n",
    "W[2][3]"
   ]
  },
  {
   "cell_type": "code",
   "execution_count": 120,
   "id": "ff788fcf",
   "metadata": {},
   "outputs": [
    {
     "name": "stdout",
     "output_type": "stream",
     "text": [
      "[0 0]\n"
     ]
    }
   ],
   "source": [
    "print(np.random.randint(2, size=(2,)))"
   ]
  },
  {
   "cell_type": "code",
   "execution_count": null,
   "id": "33acc3f8",
   "metadata": {},
   "outputs": [],
   "source": []
  },
  {
   "cell_type": "code",
   "execution_count": null,
   "id": "bcce5103",
   "metadata": {},
   "outputs": [],
   "source": []
  }
 ],
 "metadata": {
  "kernelspec": {
   "display_name": "QBM",
   "language": "python",
   "name": "python3"
  },
  "language_info": {
   "codemirror_mode": {
    "name": "ipython",
    "version": 3
   },
   "file_extension": ".py",
   "mimetype": "text/x-python",
   "name": "python",
   "nbconvert_exporter": "python",
   "pygments_lexer": "ipython3",
   "version": "3.9.16"
  },
  "vscode": {
   "interpreter": {
    "hash": "ccecdd9f0f9308458f7cad54380047903a5180172083a8cf7d969b85bf2f904e"
   }
  }
 },
 "nbformat": 4,
 "nbformat_minor": 5
}
