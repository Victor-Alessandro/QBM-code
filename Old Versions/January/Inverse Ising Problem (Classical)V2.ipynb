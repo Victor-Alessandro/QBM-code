{
 "cells": [
  {
   "cell_type": "markdown",
   "id": "5c4e345f",
   "metadata": {},
   "source": [
    "# Inverse Ising Problem\n",
    "This code infers the interaction parameters of the classical hamiltonian from the statistics using a classical Boltzmann machine."
   ]
  },
  {
   "cell_type": "code",
   "execution_count": 1,
   "id": "c2327f32",
   "metadata": {},
   "outputs": [],
   "source": [
    "import numpy as np\n",
    "import matplotlib.pyplot as plt"
   ]
  },
  {
   "cell_type": "markdown",
   "id": "bba6bb5f",
   "metadata": {},
   "source": [
    "Since the free statistics have to be calculated at each iteration of the gradient ascent loop, we want our functions to calculate the free statistics as efficient as possible. We first start by simplifying the solver functions defined for the forward Ising problem. We can recycle a lot of the code that we used for the forward Ising problem."
   ]
  },
  {
   "cell_type": "markdown",
   "id": "36f9ce4e",
   "metadata": {},
   "source": [
    "The inverse problem is to learn the values of the weight matrix using the statistics of the system. This was done by using a Boltzmann machine, which physically corresponds to an 2D Ising model at finite temperature."
   ]
  },
  {
   "cell_type": "code",
   "execution_count": 2,
   "id": "b6a376c3",
   "metadata": {},
   "outputs": [],
   "source": [
    "# WEIGHT FUNCTIONS\n",
    "#-----------------------------------------------------------------------------------------------------------\n",
    "def generate_weights_nearest_neighbour(L, w, h):\n",
    "    '''Generates weights array with only nearest neighbour interactions and periodic boundary conditions''' \n",
    "    N = L**2\n",
    "    W = np.zeros((N, N))\n",
    "    for i in range(L):\n",
    "        for j in range(L):\n",
    "            site  = L * i             + j\n",
    "            east  = L * i             + (j + 1) % L\n",
    "            west  = L * i             + (j - 1) % L\n",
    "            north = L * ((i + 1) % L) + j\n",
    "            south = L * ((i - 1) % L) + j\n",
    "            \n",
    "            W[site, east]  += w\n",
    "            W[site, west]  += w\n",
    "            W[site, north] += w\n",
    "            W[site, south] += w\n",
    "            W[site, site]  += h\n",
    "    return W\n",
    "\n",
    "def generate_weights_fully_connected(L, w, h):\n",
    "    '''Generates weights array for a fully connected system'''\n",
    "    N = L**2\n",
    "    W = np.ones((N, N)) * w \n",
    "    np.fill_diagonal(W, h)\n",
    "    return W / N\n",
    "\n",
    "def generate_weights_random(L, w, h, seed):\n",
    "    '''Generates a symmetric random weights array for a given seed'''\n",
    "    N = L**2      \n",
    "    rng = np.random.default_rng(seed)   #  set random seed for reproduciblity\n",
    "    W_assym = rng.random((N, N)) * w    #  get random weight matrix\n",
    "    W = (W_assym+ W_assym.T)/2          #  symmetrize the random matrix\n",
    "    return W "
   ]
  },
  {
   "cell_type": "code",
   "execution_count": 3,
   "id": "c3d43ed9",
   "metadata": {},
   "outputs": [],
   "source": [
    "###  SIMULATION HELPER FUNCTIONS\n",
    "#----------------------------------------------------------------------\n",
    "def initial_config(L):   \n",
    "    '''Generates a 1D array of length N with random binary spin values'''\n",
    "    return np.random.choice([-1, 1], size=(L**2))\n",
    "\n",
    "def all_possible_configs(L):\n",
    "    '''Generates all possible configurations of a binary spin system of size N'''\n",
    "    N = L**2\n",
    "    configs = np.zeros((2**N,N))\n",
    "    for i in range(2**N):\n",
    "        config = np.array([1 if x == '1' else -1 for x in np.binary_repr(i, width=N)])\n",
    "        configs[i] = config\n",
    "    return configs\n",
    "\n",
    "def calcEnergy(config, W):\n",
    "    '''Calculates the energy of a given configuration'''\n",
    "    energy = -np.dot(config.T,np.dot(W, config)) / 2 - np.dot(np.diagonal(W),config)\n",
    "    return energy\n",
    "\n",
    "def calcCorr(config): \n",
    "    '''Calculates the spin-spin correlations of a given configuration. Returns a NxN matrix with the correlations'''\n",
    "    return np.outer(config, config.T)\n",
    "\n",
    "def heat_bath_move(config, W, beta):\n",
    "    '''Implements a Monte Carlo sweep using the heat bath algorithm'''\n",
    "    N = config.shape[0]\n",
    "    for i in range(N):                                 #  this for loop ensures we perform a sweep\n",
    "        a  = np.random.randint(N)                      #  choose a random spin i \n",
    "        lf = np.dot(config[a], np.dot(W[a],config))    #  calculate local field energy of spin i\n",
    "        p  = np.exp(-2 * beta * lf)                    #  probability of flipping spin i\n",
    "        if np.random.rand() < p:\n",
    "            config[a] = -config[a]\n",
    "    return config"
   ]
  },
  {
   "cell_type": "code",
   "execution_count": 4,
   "id": "026a7ada",
   "metadata": {},
   "outputs": [],
   "source": [
    "###  GET SIMPLIFIED SOLVER FUNCTIONS\n",
    "#----------------------------------------------------------------------\n",
    "def ising_solve_exact_simplified(L, W, T, configs):    \n",
    "    '''Calculates the free statistics for a single temperature using exact calculation'''\n",
    "    N = L**2\n",
    "    beta = 1.0/T \n",
    "    Z, C1, C2  = 0, np.zeros((N)), np.zeros((N,N))        #  initialize arrays to store variables                       \n",
    "                                           \n",
    "    for config in configs:\n",
    "        Ene  = calcEnergy(config,W)\n",
    "        Corr = calcCorr(config) \n",
    "        p    = np.exp(-beta * Ene)                        #  non-normalized probability of this \n",
    "                                                          #  configuration at this temperature\n",
    "        Z  +=  p                                        \n",
    "        C1 +=  p * config                               \n",
    "        C2 +=  p * Corr\n",
    "\n",
    "    Ci   = C1 / Z\n",
    "    CiCj = C2 / Z\n",
    "        \n",
    "    return Ci,CiCj\n",
    "\n",
    "def ising_solve_mc_simplified(L, W, T, config, mcSteps):    \n",
    "    '''Calculate the free statistics for a single temperature using Monte Carlo Heat Bath sampling'''\n",
    "    N = L**2\n",
    "    beta = 1.0/T \n",
    "    Ci,CiCj = 0,np.zeros((N)),np.zeros((N,N))             #  initialize arrays to store variables \n",
    "\n",
    "    for i in range(mcSteps):   \n",
    "        config      = heat_bath_move(config, W, beta)     #  performs a sweep. no need to equilibrate.               \n",
    "        Corr        = calcCorr(config)             \n",
    "\n",
    "        C1   += config\n",
    "        C2   += Corr\n",
    "   \n",
    "    Ci[tt]    = C1 / mcSteps\n",
    "    CiCj[tt]  = C2 / mcSteps\n",
    "        \n",
    "    return Ci,CiCj"
   ]
  },
  {
   "cell_type": "markdown",
   "id": "8e4fdc69",
   "metadata": {},
   "source": [
    "I've checked and these functions recover the exact same values for Ci and CiCj as the more expansive version does."
   ]
  },
  {
   "cell_type": "code",
   "execution_count": 68,
   "id": "4d7f0ad0",
   "metadata": {},
   "outputs": [],
   "source": [
    "## SOLVE USING EXACT COMPUTATION \n",
    "#----------------------------------------------------------------------\n",
    "def solve_inverse_ising_exact(L, T, w, h, eqSteps, mcSteps, W_type, Clamp_type, Free_type, threshold, maxiter, eta):\n",
    "    '''Solves the inverse Ising problem. Returns weight matrices that generated the clamped statistics \n",
    "       and the inferred weight matrix'''\n",
    "    \n",
    "    #  initialize weight matrix\n",
    "    if W_type == 0:                                           \n",
    "        W_clamp = generate_weights_random(L,w,h,777)           #  random seed 777\n",
    "    elif W_type == 1:                                         \n",
    "        W_clamp = generate_weights_nearest_neighbour(L,w,h)\n",
    "    elif W_type == 2:\n",
    "        W_clamp = generate_weights_fully_connected(L,w,h) \n",
    "    else:\n",
    "        print(\"Non-valid weight matrix type\")\n",
    "        \n",
    "    #  generate the clamped statistics based on solver type\n",
    "    if Free_type == 0:\n",
    "        configs = all_possible_configs(L)\n",
    "        Ci_clamp, CiCj_clamp = ising_solve_exact_simplified(L, W_clamp, T, configs)\n",
    "    if Free_type == 1:\n",
    "        config = initial_config(L)                             #  intialize a state\n",
    "        for i in range(eqSteps):                               #  equilibrate\n",
    "            config    = heat_bath_move(config, W, beta)\n",
    "            Ci_clamp, CiCj_clamp = ising_solve_exact_simplified(L, W_clamp, T, config, eqSteps)\n",
    "            \n",
    "            #  initialize a new state to generate free statistics from later on\n",
    "            config = initial_config(L)                            \n",
    "            for i in range(eqSteps):                           #  we only want to equiliberate once\n",
    "                config    = heat_bath_move(config, W, beta)    #  to be more efficient    \n",
    "\n",
    "    #  get random initial weights that generate free statistics \n",
    "    W = generate_weights_random(L, w, h, 333)                  #  random seed 333\n",
    "    H = W.diagonal()                                           #  get self-interactions\n",
    "    \n",
    "    #  initialize gradient ascent \n",
    "    N    = L**2\n",
    "    beta = 1.0 / T \n",
    "    Ci_free, CiCj_free = np.zeros((N)), np.zeros((N,N))        \n",
    "    it = 0\n",
    "    d_W = d_H = 1 \n",
    "    \n",
    "    while d_W + d_H > threshold and it < maxiter: #  start gradient ascent\n",
    "        it += 1\n",
    "\n",
    "        #generate free statistics based on type of solver\n",
    "        if Free_type == 0:\n",
    "            Ci_free,CiCj_free = ising_solve_exact_simplified(L, W, T, configs) \n",
    "        elif Free_type == 1:\n",
    "            Ci_free,CiCj_free = ising_solve_mc_simplified(L, W, T, config, mcSteps)\n",
    "            \n",
    "        H     = H + eta * (Ci_clamp   - Ci_free)               #  update weight matrix based on statistics  \n",
    "        W     = W + eta * (CiCj_clamp - CiCj_free)\n",
    "\n",
    "        d_H = np.abs(np.sum(Ci_free - Ci_clamp))\n",
    "        d_W = np.abs(np.sum(CiCj_free - CiCj_clamp))\n",
    "\n",
    "        np.fill_diagonal(W, H)                                 #  update diagonal weights to W\n",
    "\n",
    "    loopdata = [it, d_H, d_W]\n",
    "    return W, W_clamp, loopdata"
   ]
  },
  {
   "cell_type": "code",
   "execution_count": 79,
   "id": "b889afc7",
   "metadata": {},
   "outputs": [],
   "source": [
    "##  PARAMETERS\n",
    "#----------------------------------------------------------------------\n",
    "\n",
    "# model parameters\n",
    "L           = 2                            #  linear dimension of the LxL lattice\n",
    "T           = 1                            #  temperature scalar\n",
    "w           = 1                            #  strength of interactions \n",
    "h           = 0                            #  strength of self-interactions\n",
    "eqSteps     = 2**9                         #  number of MC sweeps for equilibration\n",
    "mcSteps     = 2**10                        #  number of MC sweeps for calculation\n",
    "W_type      = 0                            #  0 for random weights, 1 for nb, 2 for fully connected\n",
    "Clamp_type  = 0                            #  determine how the clamped statistics are generated (0 exact, 1 mc)\n",
    "Free_type   = 0                            #  determine how the free statistics are generated (0 exact, 1 mc)\n",
    "\n",
    "# gradient ascent parameters \n",
    "threshold    = 1e-8     #  threshold for stopping the gradient ascent loop\n",
    "maxiter      = 2**11    #  maximum number of gradient ascent iterations\n",
    "eta          = 1/2      #  learning rate"
   ]
  },
  {
   "cell_type": "code",
   "execution_count": 80,
   "id": "477948b2",
   "metadata": {},
   "outputs": [],
   "source": [
    "W, W_clamp, loopdata = solve_inverse_ising_exact(3, T, w, h, eqSteps, mcSteps, \n",
    "                                                 W_type, Clamp_type, Free_type, threshold, maxiter, eta)"
   ]
  },
  {
   "cell_type": "code",
   "execution_count": 81,
   "id": "63db5943",
   "metadata": {},
   "outputs": [
    {
     "name": "stdout",
     "output_type": "stream",
     "text": [
      "[[0.08 0.19 0.22 0.08 0.25 0.06 0.07 0.09 0.16]\n",
      " [0.19 0.04 0.35 0.41 0.09 0.16 0.09 0.31 0.12]\n",
      " [0.22 0.35 0.34 0.21 0.12 0.00 0.15 0.29 0.05]\n",
      " [0.08 0.41 0.21 0.01 0.21 0.13 0.28 0.50 0.54]\n",
      " [0.25 0.09 0.12 0.21 0.13 0.39 0.06 0.17 0.38]\n",
      " [0.06 0.16 0.00 0.13 0.39 0.06 0.09 0.11 0.13]\n",
      " [0.07 0.09 0.15 0.28 0.06 0.09 0.32 0.10 0.04]\n",
      " [0.09 0.31 0.29 0.50 0.17 0.11 0.10 0.39 0.01]\n",
      " [0.16 0.12 0.05 0.54 0.38 0.13 0.04 0.01 0.35]]\n",
      "[2048, 5.189969323193822e-07, 9.5084934405687e-05]\n"
     ]
    }
   ],
   "source": [
    "print(np.abs(W - W_clamp))\n",
    "print(loopdata)\n",
    "np.set_printoptions(formatter={'float_kind':\"{:.2f}\".format}) # print matrices in 2 decimals"
   ]
  },
  {
   "cell_type": "markdown",
   "id": "b377e6e5",
   "metadata": {},
   "source": [
    "### Results\n",
    "\n",
    "Exact computation performs well for N = 2. Noticable dropoff when going to N = 3. It finds completely different configurations that generate approximately the same statistics.\n",
    "\n",
    "The algorithm performs best for fully connected random weights. It has some problems with 0 values. It can find the nearest neighbour matrix but only after quite a long time (750.000 iterations)\n",
    "\n",
    "When increasing the lattice size, the computation time ....\n",
    "\n",
    "For random weights it appears that a high learning rate (~1 seems optimal) but this can be investigated further."
   ]
  },
  {
   "cell_type": "markdown",
   "id": "d703e016",
   "metadata": {},
   "source": [
    "At first, sove the inverse problem for 1 temperature at the time. Then scale up to multiple. Seperate the calculation of intensive values and correlations. You only need the correlations here."
   ]
  }
 ],
 "metadata": {
  "kernelspec": {
   "display_name": "Python 3",
   "language": "python",
   "name": "python3"
  },
  "language_info": {
   "codemirror_mode": {
    "name": "ipython",
    "version": 3
   },
   "file_extension": ".py",
   "mimetype": "text/x-python",
   "name": "python",
   "nbconvert_exporter": "python",
   "pygments_lexer": "ipython3",
   "version": "3.8.8"
  }
 },
 "nbformat": 4,
 "nbformat_minor": 5
}
