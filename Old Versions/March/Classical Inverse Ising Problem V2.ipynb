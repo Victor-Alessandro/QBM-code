{
 "cells": [
  {
   "cell_type": "markdown",
   "id": "5c4e345f",
   "metadata": {},
   "source": [
    "# Inverse Ising Problem\n",
    "The inverse problem is to learn the values of the weight matrix using the statistics of the system. This code infers the interaction parameters of the classical hamiltonian from the statistics using a classical Boltzmann machine."
   ]
  },
  {
   "cell_type": "code",
   "execution_count": 1,
   "id": "c2327f32",
   "metadata": {},
   "outputs": [],
   "source": [
    "import numpy as np\n",
    "import matplotlib.pyplot as plt\n",
    "np.set_printoptions(formatter={'float_kind':\"{:.6f}\".format}) # print matrices in 2 decimals"
   ]
  },
  {
   "cell_type": "markdown",
   "id": "29835844",
   "metadata": {},
   "source": [
    "The functions below are copy-paste from the forward ising code"
   ]
  },
  {
   "cell_type": "code",
   "execution_count": 38,
   "id": "b6a376c3",
   "metadata": {},
   "outputs": [],
   "source": [
    "# WEIGHT FUNCTIONS\n",
    "#-----------------------------------------------------------------------------------------------------------\n",
    "def generate_weights_nearest_neighbour(L, w, h):\n",
    "    '''Generates weights array with only nearest neighbour interactions and periodic boundary conditions''' \n",
    "    N = L**2\n",
    "    W = np.zeros((N, N))\n",
    "    for i in range(L):\n",
    "        for j in range(L):\n",
    "            site  = L * i             + j\n",
    "            east  = L * i             + (j + 1) % L\n",
    "            west  = L * i             + (j - 1) % L\n",
    "            north = L * ((i + 1) % L) + j\n",
    "            south = L * ((i - 1) % L) + j\n",
    "            \n",
    "            W[site, east]  += w\n",
    "            W[site, west]  += w\n",
    "            W[site, north] += w\n",
    "            W[site, south] += w\n",
    "            W[site, site]  += h\n",
    "    return W\n",
    "\n",
    "def generate_weights_fully_connected(L, w, h):\n",
    "    '''Generates weights array for a fully connected system'''\n",
    "    N = L**2\n",
    "    W = (np.ones((N, N)) * w) / N \n",
    "    np.fill_diagonal(W, 0)\n",
    "    H = (np.ones((N)) * h) / L\n",
    "    return W, H\n",
    "\n",
    "def generate_weights_random(L, w, h, sigma, seed):\n",
    "    '''Generates a symmetric random weights array drawn from a normal distribution for a given seed'''\n",
    "    N = L**2      \n",
    "    rng = np.random.default_rng(seed)                    #  set random seed for reproduciblity\n",
    "    W_assym = rng.normal(w/N, sigma/(N**(1/2)),(N, N))   #  get normal distributed weight matrix that scales with w\n",
    "    W = (W_assym+ W_assym.T)/2                           #  symmetrize the random matrix \n",
    "    np.fill_diagonal(W, np.diag(W) * (h/w))              #  scale diagonal with h values     \n",
    "    return W "
   ]
  },
  {
   "cell_type": "code",
   "execution_count": 3,
   "id": "c3d43ed9",
   "metadata": {},
   "outputs": [],
   "source": [
    "###  SIMULATION HELPER FUNCTIONS\n",
    "#----------------------------------------------------------------------\n",
    "def initial_config(L):   \n",
    "    '''Generates a 1D array of length N with random binary spin values'''\n",
    "    return np.random.choice([-1, 1], size=(L**2))\n",
    "\n",
    "def all_possible_configs(L):\n",
    "    '''Generates all possible configurations of a binary spin system of size N'''\n",
    "    N = L**2\n",
    "    configs = np.zeros((2**N,N))\n",
    "    for i in range(2**N):\n",
    "        config = np.array([1 if x == '1' else -1 for x in np.binary_repr(i, width=N)])\n",
    "        configs[i] = config\n",
    "    return configs\n",
    "\n",
    "def calcEnergy(config, W):\n",
    "    '''Calculates the energy of a given configuration'''\n",
    "    energy = -np.dot(config.T,np.dot(W, config)) / 2 - np.dot(np.diagonal(W),config)\n",
    "    return energy\n",
    "\n",
    "def calcCorr(config): \n",
    "    '''Calculates the spin-spin correlations of a given configuration. Returns a NxN matrix with the correlations'''\n",
    "    return np.outer(config, config.T)\n",
    "\n",
    "\n",
    "def heat_bath_move(config, W, beta):\n",
    "    '''Implements a Monte Carlo sweep using the heat bath algorithm'''\n",
    "    N = config.shape[0]\n",
    "    for i in range(N):                                 #  this for loop ensures we perform a sweep\n",
    "        a  = np.random.randint(N)                      #  choose a random spin i \n",
    "        lf = config[a] * np.dot(W[a],config)             #  calculate local field energy of spin i\n",
    "        p  = np.exp(-2 * beta * lf)                    #  probability of flipping spin i\n",
    "        if np.random.rand() < p:\n",
    "            config[a] = -config[a]\n",
    "    return config"
   ]
  },
  {
   "cell_type": "markdown",
   "id": "bba6bb5f",
   "metadata": {},
   "source": [
    "Since the free statistics have to be calculated at each iteration of the gradient ascent loop, we want our functions to calculate the free statistics as efficient as possible. We first start by simplifying the solver functions defined for the forward Ising problem. We can recycle a lot of the code that we used for the forward Ising problem."
   ]
  },
  {
   "cell_type": "code",
   "execution_count": 4,
   "id": "026a7ada",
   "metadata": {},
   "outputs": [],
   "source": [
    "###  GET SIMPLIFIED SOLVER FUNCTIONS\n",
    "#----------------------------------------------------------------------\n",
    "def ising_solve_exact_simplified(L, W,H, T, configs):    \n",
    "    '''Calculates the free statistics for a single temperature using exact calculation'''\n",
    "    N = L**2\n",
    "    beta = 1.0/T \n",
    "    Z, C1, C2  = 0, np.zeros((N)), np.zeros((N,N))    #  initialize arrays to store variables                       \n",
    "                                           \n",
    "    for config in configs:\n",
    "        Ene  = calcEnergy(config,W,H)\n",
    "        Corr = calcCorr(config) \n",
    "        p    = np.exp(-beta * Ene)                    #  non-normalized probability of this \n",
    "                                                      #  configuration at this temperature\n",
    "        Z  +=  p                                        \n",
    "        C1 +=  p * config                               \n",
    "        C2 +=  p * Corr\n",
    "\n",
    "    Ci   = C1 / Z\n",
    "    CiCj = C2 / Z\n",
    "        \n",
    "    return Ci,CiCj\n",
    "\n",
    "def ising_solve_mc_simplified(L, W, T, config, mcSteps):    \n",
    "    '''Calculate the free statistics for a single temperature using Monte Carlo Heat Bath sampling'''\n",
    "    N = L**2\n",
    "    beta = 1.0/T  \n",
    "    C1, C2 = np.zeros((N)),np.zeros((N,N))       #  initialize arrays to store variables \n",
    "\n",
    "    for i in range(mcSteps):   \n",
    "        config = heat_bath_move(config, W, beta) #  performs a sweep. no need to equilibrate.  \n",
    "        Ene    = calcEnergy(config,W)\n",
    "        Corr   = calcCorr(config)      \n",
    " \n",
    "        C1 += config\n",
    "        C2 += Corr\n",
    "   \n",
    "    Ci    = C1 / mcSteps\n",
    "    CiCj  = C2 / mcSteps\n",
    "        \n",
    "    return Ci,CiCj,config"
   ]
  },
  {
   "cell_type": "markdown",
   "id": "8e4fdc69",
   "metadata": {},
   "source": [
    "I've checked and the exact function recover the exact same values for Ci and CiCj as the more expansive version does. Given enough mcSteps, the simplified mc function also converges to the same values as the non-simplified mc function."
   ]
  },
  {
   "cell_type": "code",
   "execution_count": 5,
   "id": "4d7f0ad0",
   "metadata": {},
   "outputs": [],
   "source": [
    "## SOLVE USING EXACT COMPUTATION \n",
    "#----------------------------------------------------------------------\n",
    "def solve_inverse_ising(L, T, w, h, eqSteps, mcSteps, W_type, Clamp_type, Free_type, threshold, maxiter, eta):\n",
    "    '''Solves the inverse Ising problem. Returns weight matrices that generated the clamped statistics \n",
    "       and the inferred weight matrix'''\n",
    "    N    = L**2\n",
    "    beta = 1.0 / T \n",
    "    \n",
    "    #  initialize weight matrix\n",
    "    if W_type == 0:                                           \n",
    "        W_clamp = generate_weights_random(L, w, h, sigma, seed_clamp)         \n",
    "    elif W_type == 1:                                         \n",
    "        W_clamp = generate_weights_nearest_neighbour(L,w,h)\n",
    "    elif W_type == 2:\n",
    "        W_clamp, H_clamp = generate_weights_fully_connected(L,w,h) \n",
    "    else:\n",
    "        print(\"Non-valid weight matrix type\")\n",
    "        \n",
    "    #  generate the clamped statistics based on solver type\n",
    "    if Clamp_type == 0:\n",
    "        configs = all_possible_configs(L)\n",
    "        Ci_clamp, CiCj_clamp = ising_solve_exact_simplified(L, W_clamp, T, configs)\n",
    "\n",
    "    if Clamp_type == 1:\n",
    "        config = initial_config(L)                             #  intialize a state\n",
    "        for i in range(eqSteps):                               #  equilibrate\n",
    "            config    = heat_bath_move(config, W_clamp, beta)\n",
    "        Ci_clamp, CiCj_clamp, config = ising_solve_mc_simplified(L, W_clamp, T, config, mcSteps)   \n",
    "        \n",
    "    config = initial_config(L)                             #  initialize new state for free statistics \n",
    "\n",
    "    #  get random initial weights that generate free statistics \n",
    "    W = generate_weights_random(L, w, h, sigma, seed_free)     #  use different seed than for clamped stats\n",
    "    H = W.diagonal()                                           #  get self-interactions\n",
    "    \n",
    "    #  initialize gradient ascent values  \n",
    "    it    = 0\n",
    "    H_max = W_max = 1    \n",
    "    Hmax_values, Wmax_values = [], []  #store values to plot\n",
    "    \n",
    "    while it < maxiter:        #  start gradient ascent\n",
    "        it += 1\n",
    "\n",
    "        #generate free statistics based on type of solver\n",
    "        if Free_type == 0:\n",
    "            Ci_free, CiCj_free = ising_solve_exact_simplified(L, W, T, configs) \n",
    "\n",
    "        elif Free_type == 1:\n",
    "            Ci_free, CiCj_free, config = ising_solve_mc_simplified(L, W, T, config, mcSteps)\n",
    "            \n",
    "        H     = H + eta * (Ci_clamp   - Ci_free)               #  update weight matrix based on statistics  \n",
    "        W     = W + eta * (CiCj_clamp - CiCj_free)\n",
    "        np.fill_diagonal(W, H)                                 #  update diagonal weights to W\n",
    "\n",
    "        H_max = np.abs(np.max(Ci_free - Ci_clamp))\n",
    "        W_max = np.abs(np.max(CiCj_free - CiCj_clamp))\n",
    "        \n",
    "        Hmax_values.append(H_max)\n",
    "        Wmax_values.append(W_max)\n",
    "        \n",
    "    return W, W_clamp, it, Hmax_values, Wmax_values"
   ]
  },
  {
   "cell_type": "code",
   "execution_count": 6,
   "id": "5186bc23",
   "metadata": {},
   "outputs": [],
   "source": [
    "###  PLOTTING FUNCTIONS\n",
    "#----------------------------------------------------------------------\n",
    "def plot_scatter(ax, x, y, xlabel, ylabel, color, legend = False, labels = []):\n",
    "    '''Creates a scatter subplot'''\n",
    "    ax.scatter(x, y, s=10, marker='o', color=color)\n",
    "    ax.set_xlabel(xlabel, fontsize=20)\n",
    "    ax.set_ylabel(ylabel, fontsize=20)\n",
    "    ax.set_yscale('log')\n",
    "\n",
    "def plot_convergences(it,Hmax,Wmax):\n",
    "    fig = plt.figure(figsize=(20, 20));                           #  make plots\n",
    "    fig.suptitle('Convergence Plots', fontsize=30, y = 0.91)\n",
    "\n",
    "    its= np.arange(1,it+1,1)\n",
    "\n",
    "    ax1 = fig.add_subplot(2, 2, 1)\n",
    "    plot_scatter(ax1, its, Hmax, \"Iterations\", \"H\", \"HotPink\")\n",
    "\n",
    "    ax2 = fig.add_subplot(2, 2, 2)\n",
    "    plot_scatter(ax2, its, Wmax, \"Iterations\", \"W\", \"Coral\")\n",
    "    \n",
    "def plot_likelihood(it,L):\n",
    "    fig = plt.figure(figsize=(20, 20));                           #  make plots\n",
    "    fig.suptitle('Likelihood Convergence', fontsize=30, y = 0.91)\n",
    "\n",
    "    its= np.arange(1,it+1,1)\n",
    "\n",
    "    ax1 = fig.add_subplot(2, 2, 1)\n",
    "    plot_scatter(ax1, its, dL, \"Iterations\", \"Likelihood\", \"ForestGreen\")"
   ]
  },
  {
   "cell_type": "code",
   "execution_count": 29,
   "id": "b889afc7",
   "metadata": {},
   "outputs": [],
   "source": [
    "##  PARAMETERS\n",
    "#----------------------------------------------------------------------\n",
    "# model parameters\n",
    "L           = 2        #  linear dimension of the LxL lattice\n",
    "T           = 1        #  temperature scalar\n",
    "w           = 1        #  strength of interactions \n",
    "h           = 1        #  strength of self-interactions\n",
    "W_type      = 2        #  0 for random weights, 1 for nb, 2 for fully connected\n",
    "Clamp_type  = 0        #  determine how the clamped statistics are generated (0 exact, 1 mc)\n",
    "Free_type   = 0        #  determine how the free statistics are generated (0 exact, 1 mc)\n",
    "eqSteps     = 2**10    #  number of MC sweeps for equilibration\n",
    "mcSteps     = 2**14    #  number of MC sweeps for calculation\n",
    "\n",
    "# gradient ascent parameters \n",
    "threshold   = 1e-13     #  threshold for stopping the gradient ascent loop\n",
    "maxiter     = 2**10     #  maximum number of gradient ascent iterations\n",
    "eta         = 1/20      #  learning rate\n",
    "\n",
    "#random weights parametes\n",
    "seed_clamp  = 777       \n",
    "seed_free   = 333\n",
    "sigma       = .1"
   ]
  },
  {
   "cell_type": "code",
   "execution_count": 31,
   "id": "c3ff9ec7",
   "metadata": {},
   "outputs": [
    {
     "data": {
      "image/png": "[encoded data removed]",
      "text/plain": [
       "<Figure size 1440x1440 with 2 Axes>"
      ]
     },
     "metadata": {
      "needs_background": "light"
     },
     "output_type": "display_data"
    }
   ],
   "source": [
    "W, W_clamp, it, Hmax, Wmax= solve_inverse_ising(L, T, w, h, eqSteps, mcSteps, \n",
    "                                                  W_type, 0, 0, 1e-6, 300, 1/20)\n",
    "plot_convergences(it,Hmax,Wmax)\n",
    "plt.savefig('Figures/Inverse Ising Problem/help', bbox_inches='tight')"
   ]
  },
  {
   "cell_type": "code",
   "execution_count": 32,
   "id": "f7c109be",
   "metadata": {},
   "outputs": [
    {
     "name": "stdout",
     "output_type": "stream",
     "text": [
      "[[0.000003 0.000031 0.000002 0.000029]\n",
      " [0.000031 0.000002 0.000030 0.000001]\n",
      " [0.000002 0.000030 0.000003 0.000031]\n",
      " [0.000029 0.000001 0.000031 0.000004]]\n"
     ]
    }
   ],
   "source": [
    "print(np.abs(W - W_clamp))"
   ]
  },
  {
   "cell_type": "code",
   "execution_count": 23,
   "id": "a4c4a139",
   "metadata": {},
   "outputs": [
    {
     "data": {
      "image/png": "[encoded data removed]",
      "text/plain": [
       "<Figure size 1440x1440 with 2 Axes>"
      ]
     },
     "metadata": {
      "needs_background": "light"
     },
     "output_type": "display_data"
    }
   ],
   "source": [
    "W, W_clamp, it, Hmax, Wmax= solve_inverse_ising(L, T, w, h, eqSteps, 2**20, \n",
    "                                                  W_type, 0, 1, 1e-6, 20, 1/4)\n",
    "plot_convergences(it,Hmax,Wmax)\n",
    "plt.savefig('Figures/Inverse Ising Problem/MEGA MCMC POG', bbox_inches='tight')"
   ]
  },
  {
   "cell_type": "code",
   "execution_count": 26,
   "id": "63db5943",
   "metadata": {},
   "outputs": [
    {
     "name": "stdout",
     "output_type": "stream",
     "text": [
      "[[0.202036 0.088087 0.079467 0.092769]\n",
      " [0.088087 0.263998 0.086941 0.100515]\n",
      " [0.079467 0.086941 0.189976 0.089339]\n",
      " [0.092769 0.100515 0.089339 0.289018]]\n"
     ]
    }
   ],
   "source": [
    "print(np.abs(W - W_clamp))"
   ]
  },
  {
   "cell_type": "code",
   "execution_count": 28,
   "id": "09fd77da",
   "metadata": {},
   "outputs": [
    {
     "name": "stdout",
     "output_type": "stream",
     "text": [
      "[[0.000000 0.250000 0.250000 0.250000]\n",
      " [0.250000 0.000000 0.250000 0.250000]\n",
      " [0.250000 0.250000 0.000000 0.250000]\n",
      " [0.250000 0.250000 0.250000 0.000000]]\n"
     ]
    }
   ],
   "source": [
    "print(W_clamp)"
   ]
  },
  {
   "cell_type": "markdown",
   "id": "296c99b2",
   "metadata": {},
   "source": [
    "# ----------------------------------DANGER ZONE----------------------------------"
   ]
  },
  {
   "cell_type": "markdown",
   "id": "7d47aa68",
   "metadata": {},
   "source": [
    "The statistics generated by the MC simulation does not converge to the exact calculation, even for extremely high temperatures and large amounts of samples:"
   ]
  },
  {
   "cell_type": "code",
   "execution_count": 41,
   "id": "b67fcdc3",
   "metadata": {},
   "outputs": [],
   "source": [
    "L = 2\n",
    "w = 1\n",
    "h = 1\n",
    "W, H = generate_weights_fully_connected(L, w, h)\n",
    "\n",
    "T = 1                #extreme temperature above the critical temperature; MCMC should be able to sample it properly\n",
    "beta = 1.0/T        \n",
    "eqSteps = 2**12\n",
    "mcSteps = 2**20      #large amount of mcSteps; does not converge"
   ]
  },
  {
   "cell_type": "code",
   "execution_count": 43,
   "id": "333e66a7",
   "metadata": {},
   "outputs": [
    {
     "name": "stdout",
     "output_type": "stream",
     "text": [
      "[[0.000000 0.250000 0.250000 0.250000]\n",
      " [0.250000 0.000000 0.250000 0.250000]\n",
      " [0.250000 0.250000 0.000000 0.250000]\n",
      " [0.250000 0.250000 0.250000 0.000000]]\n"
     ]
    }
   ],
   "source": [
    "print(W)"
   ]
  },
  {
   "cell_type": "code",
   "execution_count": 19,
   "id": "ad3ff4b7",
   "metadata": {},
   "outputs": [],
   "source": [
    "#exact statistics\n",
    "configs = all_possible_configs(L)\n",
    "Ci_ex, CiCj_ex = ising_solve_exact_simplified(L, W, T, configs)\n",
    "\n",
    "#mcmc statistics\n",
    "config = initial_config(L)                             #  intialize a state\n",
    "for i in range(eqSteps):                               #  equilibrate\n",
    "    config    = heat_bath_move(config, W, beta)\n",
    "Ci_mc, CiCj_mc, config = ising_solve_mc_simplified(L, W, T,config, mcSteps)"
   ]
  },
  {
   "cell_type": "code",
   "execution_count": 21,
   "id": "b9ab757d",
   "metadata": {},
   "outputs": [
    {
     "name": "stdout",
     "output_type": "stream",
     "text": [
      "[0.001272 0.000244 0.001064 0.000593]\n",
      "[[0.000000 0.000506 0.001391 0.000508]\n",
      " [0.000506 0.000000 0.000847 0.000998]\n",
      " [0.001391 0.000847 0.000000 0.000776]\n",
      " [0.000508 0.000998 0.000776 0.000000]]\n"
     ]
    }
   ],
   "source": [
    "print(np.abs((Ci_ex - Ci_mc)))\n",
    "\n",
    "print(np.abs(CiCj_ex - CiCj_mc))"
   ]
  },
  {
   "cell_type": "code",
   "execution_count": 20,
   "id": "9a6458ed",
   "metadata": {},
   "outputs": [
    {
     "name": "stdout",
     "output_type": "stream",
     "text": [
      "[0.000000 0.000000 0.000000 0.000000]\n",
      "[[1.000000 0.376182 0.376182 0.376182]\n",
      " [0.376182 1.000000 0.376182 0.376182]\n",
      " [0.376182 0.376182 1.000000 0.376182]\n",
      " [0.376182 0.376182 0.376182 1.000000]]\n"
     ]
    }
   ],
   "source": [
    "print(Ci_ex)\n",
    "print(CiCj_ex)"
   ]
  },
  {
   "cell_type": "code",
   "execution_count": 22,
   "id": "675c0947",
   "metadata": {},
   "outputs": [
    {
     "name": "stdout",
     "output_type": "stream",
     "text": [
      "[0.001272 -0.000244 -0.001064 -0.000593]\n",
      "[[1.000000 0.376688 0.377573 0.376690]\n",
      " [0.376688 1.000000 0.377029 0.377180]\n",
      " [0.377573 0.377029 1.000000 0.375406]\n",
      " [0.376690 0.377180 0.375406 1.000000]]\n"
     ]
    }
   ],
   "source": [
    "print(Ci_mc)\n",
    "print(CiCj_mc)"
   ]
  }
 ],
 "metadata": {
  "kernelspec": {
   "display_name": "Python 3",
   "language": "python",
   "name": "python3"
  },
  "language_info": {
   "codemirror_mode": {
    "name": "ipython",
    "version": 3
   },
   "file_extension": ".py",
   "mimetype": "text/x-python",
   "name": "python",
   "nbconvert_exporter": "python",
   "pygments_lexer": "ipython3",
   "version": "3.8.8"
  }
 },
 "nbformat": 4,
 "nbformat_minor": 5
}
