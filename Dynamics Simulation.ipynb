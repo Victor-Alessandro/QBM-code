{
 "cells": [
  {
   "cell_type": "markdown",
   "id": "52af13c7",
   "metadata": {},
   "source": [
    "## 2-Qubit Boltzmann Machine"
   ]
  },
  {
   "cell_type": "code",
   "execution_count": 7,
   "id": "83126120",
   "metadata": {},
   "outputs": [],
   "source": [
    "import numpy as np\n",
    "import scipy.linalg\n",
    "import matplotlib.pyplot as plt\n",
    "import matplotlib.transforms as mtransforms"
   ]
  },
  {
   "cell_type": "code",
   "execution_count": 8,
   "id": "ce78fba5",
   "metadata": {},
   "outputs": [],
   "source": [
    "def expmat(A):\n",
    "    \"\"\"\n",
    "    Computes the exponential of a given matrix `A'.\n",
    "    \"\"\"\n",
    "    A = 0.5 * (A + np.transpose(np.conjugate(A)))\n",
    "    evals, evecs = np.linalg.eigh(A)\n",
    "    N = len(evals)\n",
    "    res = np.zeros((N,N),np.complex64)\n",
    "    for i in range(N):\n",
    "        eigenvector = evecs[:,i]\n",
    "        projector = np.outer(eigenvector,eigenvector.conj())\n",
    "        res += np.exp(evals[i]) * projector\n",
    "    return res\n",
    "\n",
    "def logmat(A):\n",
    "    \"\"\"\n",
    "    Computes the natural logarithm of a given matrix `A`.\n",
    "    \"\"\"\n",
    "    A = 0.5 * (A + np.transpose(np.conjugate(A)))\n",
    "    evals, evecs = np.linalg.eigh(A)\n",
    "    N = len(evals)\n",
    "    res = np.zeros((N,N),np.complex64)\n",
    "    for i in range(N):\n",
    "        eigenvector = evecs[:,i]\n",
    "        projector = np.outer(eigenvector,eigenvector)\n",
    "        res += np.log(evals[i]) * projector\n",
    "    return res\n",
    "\n",
    "\n",
    "def generate_interaction_matrices():\n",
    "    \"\"\"\n",
    "    Constructs the tensor product of Pauli matrices for each spin and \n",
    "    uses them to build the interaction matrices between the two spins.\n",
    "    \"\"\"\n",
    "    pauI = np.array([[1,0],[0,1]],np.complex64)\n",
    "    pauX = np.array([[0,1],[1,0]],np.complex64)\n",
    "    pauY = np.array([[0,-1j],[1j,0]],np.complex64)\n",
    "    pauZ = np.array([[1,0],[0,-1]],np.complex64)\n",
    "    pau = np.zeros((4,4,4),np.complex64)\n",
    "    pau = np.array([pauI,pauX,pauY,pauZ])\n",
    "\n",
    "    interactions = np.zeros((4,4,4,4),dtype = np.complex64)\n",
    "    for k in range(4):\n",
    "        for kprime in range(4):\n",
    "            interactions[k,kprime] = np.kron(pau[k],pau[kprime])\n",
    "    return interactions\n",
    "\n",
    "def hamiltonian2spins(w,interactions):\n",
    "    \"\"\"\n",
    "    Calculates the Hamiltonian matrix of a two-spin system \n",
    "    \"\"\"\n",
    "    H = np.zeros((4,4),np.complex64)\n",
    "    for k in range(4):\n",
    "        for kprime in range(4):\n",
    "            H += w[k,kprime] * interactions[k,kprime]\n",
    "    return H\n",
    "\n",
    "def rho_model(w,interactions):\n",
    "    \"\"\"\n",
    "    Computes the density matrix of a two-spin system using the Hamiltonian\n",
    "    and the interaction matrices, and then normalizes it. Exact Diagonalization.\n",
    "    \"\"\"\n",
    "    H      = hamiltonian2spins(w,interactions)        #  get hamiltonian matrix\n",
    "    rho    = expmat(H)                                #  defintion of rho\n",
    "    Z      = np.real(np.trace(rho))                   #  get Z\n",
    "    rho   /= Z                                        #  normalize such that Tr[rho] = 1\n",
    "    return rho\n",
    "\n",
    "def generate_w_random(seed):\n",
    "    rng    = np.random.default_rng(seed)      #  set random seed for reproduciblity\n",
    "    w      = rng.normal(size=(4,4))           #  get normal distributed weights\n",
    "    w[0,0] = 0\n",
    "    return w\n",
    "\n",
    "def generate_w(wx1x2 ,wy1y2, w1z2z, hx1, hx2, hy1, hy2, hz1, hz2):\n",
    "    w = np.zeros((4,4))\n",
    "    w[0,0] = 0\n",
    "    w[1,1] = wx1x2\n",
    "    w[2,2] = wy1y2\n",
    "    w[3,3] = w1z2z\n",
    "    w[1,0] = hx1\n",
    "    w[0,1] = hx2\n",
    "    w[2,0] = hy1\n",
    "    w[0,2] = hy2\n",
    "    w[3,0] = hz1\n",
    "    w[0,3] = hz2\n",
    "    return w\n"
   ]
  },
  {
   "cell_type": "code",
   "execution_count": 74,
   "id": "a1ba37e3",
   "metadata": {},
   "outputs": [],
   "source": [
    "def discrete_time_dynamics(w,t_vals,interactions):\n",
    "    \"\"\"\n",
    "    Get transition matrix from parameters; use it to update dyamics\n",
    "    \"\"\"\n",
    "    s1_vals = np.zeros(len(t_vals))                     #  initialize values to store\n",
    "    s2_vals = np.zeros(len(t_vals))    \n",
    "\n",
    "    H = hamiltonian2spins(w, interactions)\n",
    "    g_i = np.sum(expmat(H))           #NEED TO NORMALIZE THIS\n",
    "    s1,s2 = 1, 1                      #initialize spins\n",
    "    for i,t in enumerate(t_vals):\n",
    "        if g_i < np.random.rand():\n",
    "            s1 *= -1\n",
    "        if g_i < np.random.rand():\n",
    "            s2 *= -1\n",
    "        \n",
    "        s1_vals[i] = s1\n",
    "        s2_vals[i] = s2\n",
    "\n",
    "    return s1_vals, s2_vals\n",
    "\n",
    "def generate_states(s1, s2, t_vals):\n",
    "    states = np.zeros(len(t_vals))\n",
    "    for i in range(len(t_vals)):\n",
    "        if s1[i] == 1 and s2[i] == 1:\n",
    "            states[i] = 0\n",
    "\n",
    "        if s1[i] == 1 and s2[i] == -1:\n",
    "            states[i] = 1\n",
    "\n",
    "        if s1[i] == -1 and s2[i] == 1:\n",
    "            states[i] = 2\n",
    "\n",
    "        if s1[i] == -1 and s2[i] == -1:\n",
    "            states[i] = 3\n",
    "    return states\n",
    "        "
   ]
  },
  {
   "cell_type": "code",
   "execution_count": 75,
   "id": "7d1b058c",
   "metadata": {},
   "outputs": [],
   "source": [
    "def plot_dynamics(s1, s2, t_vals):\n",
    "    fig = plt.figure(figsize=(25, 6));                           #  make plots\n",
    "    fig.suptitle(\"YOLO\", fontsize=30, y = 1)\n",
    "    trans = mtransforms.ScaledTranslation(-20/72, 7/72, fig.dpi_scale_trans)\n",
    "\n",
    "    states = generate_states(s1,s2, t_vals)\n",
    "    s1s2 = s1*s2\n",
    "\n",
    "\n",
    "    ax1 = fig.add_subplot(1, 2, 1)\n",
    "    ax1.plot(t_vals,states)\n",
    "    ax1.set_xlabel(\"time\", fontsize=20)\n",
    "    ax1.set_ylabel(\"states\", fontsize=20)\n",
    "    \n",
    "    ax2 = fig.add_subplot(1, 2, 2)\n",
    "    ax2.plot(t_vals,s1)\n",
    "    ax2.plot(t_vals,s2)\n",
    "    ax2.plot(t_vals,s1s2)\n",
    "    ax2.set_xlabel(\"time\", fontsize=20)\n",
    "    ax2.set_ylabel(\"states\", fontsize=20)"
   ]
  },
  {
   "cell_type": "code",
   "execution_count": 76,
   "id": "5a2b33d7",
   "metadata": {},
   "outputs": [],
   "source": [
    "#PARAMETERS\n",
    "dt = 0.01  #discrete time steps of simulation\n",
    "sim_time = 2 #time simulation should run\n",
    "t_vals = np.arange(0,sim_time,dt)\n",
    "\n",
    "#interaction parameters\n",
    "wx1x2 = 0\n",
    "wy1y2 = 0\n",
    "wz1z2 = 2\n",
    "hx1   = 0\n",
    "hx2   = 0\n",
    "hy1   = 0\n",
    "hy2   = 0\n",
    "hz1   = 1\n",
    "hz2   = 1\n",
    "    \n",
    "w = generate_w(wx1x2 ,wy1y2, wz1z2, hx1, hx2, hy1, hy2, hz1, hz2)\n",
    "interactions = generate_interaction_matrices()"
   ]
  },
  {
   "cell_type": "code",
   "execution_count": 77,
   "id": "2596b30d",
   "metadata": {},
   "outputs": [
    {
     "name": "stdout",
     "output_type": "stream",
     "text": [
      "(55.868816+0j)\n"
     ]
    },
    {
     "data": {
      "image/png": "[encoded data removed]",
      "text/plain": [
       "<Figure size 2500x600 with 2 Axes>"
      ]
     },
     "metadata": {},
     "output_type": "display_data"
    }
   ],
   "source": [
    "s1, s2 = discrete_time_dynamics(w, t_vals, interactions)\n",
    "plot_dynamics(s1, s2, t_vals)"
   ]
  },
  {
   "cell_type": "code",
   "execution_count": null,
   "id": "554c1f0a",
   "metadata": {},
   "outputs": [],
   "source": []
  },
  {
   "cell_type": "code",
   "execution_count": null,
   "id": "7406f3b9",
   "metadata": {},
   "outputs": [],
   "source": []
  }
 ],
 "metadata": {
  "kernelspec": {
   "display_name": "Python 3",
   "language": "python",
   "name": "python3"
  },
  "language_info": {
   "codemirror_mode": {
    "name": "ipython",
    "version": 3
   },
   "file_extension": ".py",
   "mimetype": "text/x-python",
   "name": "python",
   "nbconvert_exporter": "python",
   "pygments_lexer": "ipython3",
   "version": "3.9.16"
  }
 },
 "nbformat": 4,
 "nbformat_minor": 5
}
