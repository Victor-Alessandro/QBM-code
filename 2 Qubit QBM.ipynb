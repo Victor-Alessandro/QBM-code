{
 "cells": [
  {
   "cell_type": "markdown",
   "id": "52af13c7",
   "metadata": {},
   "source": [
    "## 2-Qubit Boltzmann Machine"
   ]
  },
  {
   "cell_type": "markdown",
   "id": "235793d9",
   "metadata": {},
   "source": [
    "We use a 2-qubit system, where the goal is to learn the parameters of the Ising Hamiltonian:\n",
    "\n",
    "$H = \\sum_{k} \\sum_{k'} w_{ij}^{kk'} \\sigma_0^k \\otimes \\sigma_1^{k'} + h^k_0 \\sigma_0^k + h^{k'}_1 \\sigma_1^{k'} $\n",
    "\n",
    "where $w_{ij}^{kk'}$ is the coupling strength, $h_i$ are the local fields, and $\\sigma_i^k$ are the Pauli operators. For the Pauli matrices, indexes $k=1,2,3$ correspond to $x,y,z$, index $k=0$ to the identity. The explicit Hamiltonian is written as:\n",
    "\n",
    "$H = \\sum_{k} \\sum_{k'} w_{ij}^{kk'} \\sigma_0^k \\otimes \\sigma_1^{k'} + h^k_0 \\sigma_0^k \\otimes \\sigma_1^0 + h^{k'}_1 \\sigma_0^0 \\otimes \\sigma_1^{k'}$\n",
    "\n",
    "\n",
    "The parameter matrix \"w\" is written in the Z-basis. It will have all zeros in column 2 and row 2, except for the diagonal term \"h\". The row index corresponds to spin 0 and the column to spin 1.\n",
    "\n",
    "* $w[0,k] = h_1^k$ is the external field on spin $1$; $k = 1,2,3$\n",
    "* $w[k,0] = h_0^k$ is the external field on spin $0$; $k = 1,2,3$\n",
    "* $w[0,0] = -\\log Z$\n",
    "\n",
    "For the external field, $h_0$ and $h_1$ both have a zero in its y-component ($h_0[1] = h_1[1] = 0$)\n",
    "\n",
    "A vector state follows the numbering convention $|s_0, \\dots, s_n>$"
   ]
  },
  {
   "cell_type": "code",
   "execution_count": 1,
   "id": "83126120",
   "metadata": {},
   "outputs": [],
   "source": [
    "import numpy as np\n",
    "import scipy.linalg\n",
    "import matplotlib.pyplot as plt\n",
    "import matplotlib.transforms as mtransforms\n",
    "from numba import njit"
   ]
  },
  {
   "cell_type": "code",
   "execution_count": 2,
   "id": "ce78fba5",
   "metadata": {},
   "outputs": [],
   "source": [
    "def expmat(A):\n",
    "    \"\"\"\n",
    "    Computes the exponential of a given matrix `A'.\n",
    "    \"\"\"\n",
    "    A = 0.5 * (A + np.transpose(np.conjugate(A)))\n",
    "    evals, evecs = np.linalg.eigh(A)\n",
    "    N = len(evals)\n",
    "    res = np.zeros((N,N),np.complex64)\n",
    "    for i in range(N):\n",
    "        eigenvector = evecs[:,i]\n",
    "        projector = np.outer(eigenvector,eigenvector.conj())\n",
    "        res += np.exp(evals[i]) * projector\n",
    "    return res\n",
    "\n",
    "def logmat(A):\n",
    "    \"\"\"\n",
    "    Computes the natural logarithm of a given matrix `A`.\n",
    "    \"\"\"\n",
    "    A = 0.5 * (A + np.transpose(np.conjugate(A)))\n",
    "    evals, evecs = np.linalg.eigh(A)\n",
    "    N = len(evals)\n",
    "    res = np.zeros((N,N),np.complex64)\n",
    "    for i in range(N):\n",
    "        eigenvector = evecs[:,i]\n",
    "        projector = np.outer(eigenvector,eigenvector)\n",
    "        res += np.log(evals[i]) * projector\n",
    "    return res\n",
    "\n",
    "\n",
    "def generate_interaction_matrices():\n",
    "    \"\"\"\n",
    "    Constructs the tensor product of Pauli matrices for each spin and \n",
    "    uses them to build the interaction matrices between the two spins.\n",
    "    \"\"\"\n",
    "    pauI = np.array([[1,0],[0,1]],np.complex64)\n",
    "    pauX = np.array([[0,1],[1,0]],np.complex64)\n",
    "    pauY = np.array([[0,-1j],[1j,0]],np.complex64)\n",
    "    pauZ = np.array([[1,0],[0,-1]],np.complex64)\n",
    "    pau = np.zeros((4,4,4),np.complex64)\n",
    "    pau = np.array([pauI,pauX,pauY,pauZ])\n",
    "\n",
    "    interactions = np.zeros((4,4,4,4),dtype = np.complex64)\n",
    "    for k in range(4):\n",
    "        for kprime in range(4):\n",
    "            interactions[k,kprime] = np.kron(pau[k],pau[kprime])\n",
    "    return interactions\n",
    "\n",
    "def hamiltonian2spins(w,interactions):\n",
    "    \"\"\"\n",
    "    Calculates the Hamiltonian matrix of a two-spin system \n",
    "    \"\"\"\n",
    "    H = np.zeros((4,4),np.complex64)\n",
    "    for k in range(4):\n",
    "        for kprime in range(4):\n",
    "            H += w[k,kprime] * interactions[k,kprime]\n",
    "    return H\n",
    "\n",
    "def rho_model(w,interactions):\n",
    "    \"\"\"\n",
    "    Computes the density matrix of a two-spin system using the Hamiltonian\n",
    "    and the interaction matrices, and then normalizes it. Exact Diagonalization.\n",
    "    \"\"\"\n",
    "    H      = hamiltonian2spins(w,interactions)        #  get hamiltonian matrix\n",
    "    rho    = expmat(H)                                #  defintion of rho\n",
    "    Z      = np.real(np.trace(rho))                   #  get Z\n",
    "    rho   /= Z                                        #  normalize such that Tr[rho] = 1\n",
    "    return rho\n",
    "\n",
    "def observables(rho, interactions):\n",
    "    \"\"\"\n",
    "    Computes the expectation values of the interaction matrices [observables]\n",
    "    \"\"\"\n",
    "    obs = np.zeros((4,4))\n",
    "    for k in range(4):\n",
    "        for kprime in range(4):\n",
    "            obs[k,kprime] = np.real(np.trace(rho@interactions[k,kprime]))\n",
    "    return obs\n",
    "\n",
    "def KL_divergence(eta,rho):\n",
    "    \"\"\"\n",
    "    Calculates the KL divergence between the model and target distribution.\n",
    "    \"\"\"\n",
    "    return np.real(np.trace(eta@(logmat(eta)-logmat(rho))))"
   ]
  },
  {
   "cell_type": "code",
   "execution_count": 12,
   "id": "d111aa5f",
   "metadata": {},
   "outputs": [],
   "source": [
    "###  PLOTTING FUNCTIONS\n",
    "#----------------------------------------------------------------------\n",
    "def plot_scatter_log(ax, x, y, xlabel, ylabel, color, legend = False, labels = []):\n",
    "    '''Creates a scatter subplot'''\n",
    "    ax.scatter(x, y, s=1, marker='o', color=color)\n",
    "    ax.set_xlabel(xlabel, fontsize=20)\n",
    "    ax.set_ylabel(ylabel, fontsize=20)\n",
    "    ax.set_yscale('log')\n",
    "    \n",
    "def plot_log(KL_vals, epochs):\n",
    "    fig = plt.figure(figsize=(15, 15));                           #  make plots\n",
    "    fig.suptitle('Convergence Plot', fontsize=20, x = 0.3, y = 0.91)\n",
    "\n",
    "    its= np.arange(1,epochs+1,1)\n",
    "\n",
    "    ax1 = fig.add_subplot(3, 2, 1)\n",
    "    plot_scatter_log(ax1, its, KL_vals, \"Iterations)\", \"Diff\", \"HotPink\")\n",
    "    \n",
    "def plot_scatter(ax, x, y, xlabel, ylabel, color, legend = False, labels = []):\n",
    "    '''Creates a scatter subplot'''\n",
    "    ax.scatter(x, y, s=1, marker='o', color=color)\n",
    "    ax.set_xlabel(xlabel, fontsize=20)\n",
    "    ax.set_ylabel(ylabel, fontsize=20)\n",
    "\n",
    "def plot(KL_vals, epochs):\n",
    "    fig = plt.figure(figsize=(15, 15));                           #  make plots\n",
    "    fig.suptitle('Convergence Plot', fontsize=20, x = 0.3, y = 0.91)\n",
    "\n",
    "    its= np.arange(1,epochs+1,1)\n",
    "\n",
    "    ax1 = fig.add_subplot(3, 2, 1)\n",
    "    plot_scatter(ax1, its, KL_vals, \"Iterations)\", \"Diff\", \"Coral\")"
   ]
  },
  {
   "cell_type": "code",
   "execution_count": 4,
   "id": "884840a4",
   "metadata": {},
   "outputs": [],
   "source": [
    "def generate_obs(w, interactions):\n",
    "    rho  = rho_model(w, interactions)         # compute density matrix using ED\n",
    "    obs  = observables(rho, interactions)     # get QM statistics  \n",
    "    return rho, obs\n",
    "\n",
    "def generate_w(seed):\n",
    "    rng    = np.random.default_rng(seed)      #  set random seed for reproduciblity\n",
    "    w      = rng.normal(size=(4,4))           #  get normal distributed weights\n",
    "    w[0,0] = 0\n",
    "    return w\n",
    "\n",
    "def learn_w(lr, maxiter, rho_seed, eta_seed):\n",
    "    \"\"\"\n",
    "    Train the model to fit the target distribution eta\n",
    "    \"\"\"\n",
    "    interactions     = generate_interaction_matrices()\n",
    "    \n",
    "    w_eta            = generate_w(eta_seed) \n",
    "    eta, obs_clamped = generate_obs(w_eta, interactions)   # get clamped QM statistics\n",
    "    \n",
    "    w                = generate_w(rho_seed)\n",
    "    rho, obs_model   = generate_obs(w, interactions)       # get free QM statistics      \n",
    "    \n",
    "    it = 0                                                 #initialize the gradient ascent\n",
    "    diff = np.max(np.abs(obs_model-obs_clamped))\n",
    "    diff_list = np.zeros(maxiter)\n",
    "    KL_list   = np.zeros(maxiter)\n",
    "    while(diff > tol and it < maxiter):                                                  \n",
    "        w        += lr * (obs_clamped -  obs_model)        # update weights\n",
    "        rho, obs_model  = generate_obs(w, interactions)    # get free QM statistics\n",
    "        diff = np.max(np.abs(obs_model-obs_clamped))\n",
    "        diff_list[it] = diff\n",
    "        KL_list[it]   = KL_divergence(eta,rho)\n",
    "        it += 1  \n",
    "    return w, w_eta, KL_list, diff_list, it"
   ]
  },
  {
   "cell_type": "code",
   "execution_count": 24,
   "id": "18d36773",
   "metadata": {},
   "outputs": [],
   "source": [
    "eta_seed = 123      #  random seed for target distribtution\n",
    "rho_seed = 321      #  random seed for initial modeldistribtution\n",
    "\n",
    "#learning parameters\n",
    "lr       = 1        #  learning rate \n",
    "maxiter  = 2**14    #  iterations\n",
    "tol      = 1e-10     #  tolerance"
   ]
  },
  {
   "cell_type": "code",
   "execution_count": 25,
   "id": "404003f3",
   "metadata": {},
   "outputs": [
    {
     "data": {
      "image/png": "[encoded data removed]",
      "text/plain": [
       "<Figure size 1080x1080 with 1 Axes>"
      ]
     },
     "metadata": {
      "needs_background": "light"
     },
     "output_type": "display_data"
    }
   ],
   "source": [
    "w, w_eta, KL_list, diff_list, it = learn_w(lr, maxiter, rho_seed, eta_seed)\n",
    "plot_log(diff_list, maxiter)"
   ]
  },
  {
   "cell_type": "code",
   "execution_count": 27,
   "id": "29997e5d",
   "metadata": {},
   "outputs": [
    {
     "data": {
      "image/png": "[encoded data removed]",
      "text/plain": [
       "<Figure size 1080x1080 with 1 Axes>"
      ]
     },
     "metadata": {
      "needs_background": "light"
     },
     "output_type": "display_data"
    }
   ],
   "source": [
    "plot(KL_list, maxiter)"
   ]
  },
  {
   "cell_type": "code",
   "execution_count": 29,
   "id": "e186447a",
   "metadata": {},
   "outputs": [
    {
     "name": "stdout",
     "output_type": "stream",
     "text": [
      "[[0.000019 0.000009 0.000012 0.000006]\n",
      " [0.000015 0.000013 0.000012 0.000003]\n",
      " [0.000006 0.000001 0.000004 0.000011]\n",
      " [0.000000 0.000006 0.000007 0.000002]]\n"
     ]
    }
   ],
   "source": [
    "np.set_printoptions(formatter={'float_kind':\"{:.6f}\".format}) # print matrices in 2 decimals\n",
    "#np.set_printoptions(formatter={'complex_kind': lambda x: \"{:.2f}+{:.2f}j\".format(x.real, x.imag)})\n",
    "\n",
    "print(np.abs(w-w_eta))"
   ]
  }
 ],
 "metadata": {
  "kernelspec": {
   "display_name": "Python 3",
   "language": "python",
   "name": "python3"
  },
  "language_info": {
   "codemirror_mode": {
    "name": "ipython",
    "version": 3
   },
   "file_extension": ".py",
   "mimetype": "text/x-python",
   "name": "python",
   "nbconvert_exporter": "python",
   "pygments_lexer": "ipython3",
   "version": "3.8.8"
  }
 },
 "nbformat": 4,
 "nbformat_minor": 5
}
