{
 "cells": [
  {
   "cell_type": "markdown",
   "id": "52af13c7",
   "metadata": {},
   "source": [
    "## 2-Qubit Boltzmann Machine"
   ]
  },
  {
   "cell_type": "code",
   "execution_count": 119,
   "id": "83126120",
   "metadata": {},
   "outputs": [],
   "source": [
    "import numpy as np\n",
    "import matplotlib.pyplot as plt\n",
    "import matplotlib.transforms as mtransforms"
   ]
  },
  {
   "cell_type": "code",
   "execution_count": 201,
   "id": "ce78fba5",
   "metadata": {},
   "outputs": [],
   "source": [
    "def expmat(A):\n",
    "    \"\"\"\n",
    "    Computes the exponential of a given matrix `A'.\n",
    "    \"\"\"\n",
    "    A = 0.5 * (A + np.transpose(np.conjugate(A)))\n",
    "    evals, evecs = np.linalg.eigh(A)\n",
    "    N = len(evals)\n",
    "    res = np.zeros((N,N),np.complex64)\n",
    "    for i in range(N):\n",
    "        eigenvector = evecs[:,i]\n",
    "        projector = np.outer(eigenvector,eigenvector.conj())\n",
    "        res += np.exp(evals[i]) * projector\n",
    "    return res\n",
    "\n",
    "def logmat(A):\n",
    "    \"\"\"\n",
    "    Computes the natural logarithm of a given matrix `A`.\n",
    "    \"\"\"\n",
    "    A = 0.5 * (A + np.transpose(np.conjugate(A)))\n",
    "    evals, evecs = np.linalg.eigh(A)\n",
    "    N = len(evals)\n",
    "    res = np.zeros((N,N),np.complex64)\n",
    "    for i in range(N):\n",
    "        eigenvector = evecs[:,i]\n",
    "        projector = np.outer(eigenvector,eigenvector)\n",
    "        res += np.log(evals[i]) * projector\n",
    "    return res\n",
    "\n",
    "\n",
    "def generate_interaction_matrices():\n",
    "    \"\"\"\n",
    "    Constructs the tensor product of Pauli matrices for each spin and \n",
    "    uses them to build the interaction matrices between the two spins.\n",
    "    \"\"\"\n",
    "    pauI = np.array([[1,0],[0,1]],np.complex64)\n",
    "    pauX = np.array([[0,1],[1,0]],np.complex64)\n",
    "    pauY = np.array([[0,-1j],[1j,0]],np.complex64)\n",
    "    pauZ = np.array([[1,0],[0,-1]],np.complex64)\n",
    "    pau = np.zeros((4,4,4),np.complex64)\n",
    "    pau = np.array([pauI,pauX,pauY,pauZ])\n",
    "\n",
    "    interactions = np.zeros((4,4,4,4),dtype = np.complex64)\n",
    "    for k in range(4):\n",
    "        for kprime in range(4):\n",
    "            interactions[k,kprime] = np.kron(pau[k],pau[kprime])\n",
    "    return interactions\n",
    "\n",
    "def hamiltonian2spins(w,interactions):\n",
    "    \"\"\"\n",
    "    Calculates the Hamiltonian matrix of a two-spin system \n",
    "    \"\"\"\n",
    "    H = np.zeros((4,4),np.complex64)\n",
    "    for k in range(4):\n",
    "        for kprime in range(4):\n",
    "            H += w[k,kprime] * interactions[k,kprime]\n",
    "    return H\n",
    "\n",
    "def rho_model(w,interactions):\n",
    "    \"\"\"\n",
    "    Computes the density matrix of a two-spin system using the Hamiltonian\n",
    "    and the interaction matrices, and then normalizes it. Exact Diagonalization.\n",
    "    \"\"\"\n",
    "    H      = hamiltonian2spins(w,interactions)        #  get hamiltonian matrix\n",
    "    rho    = expmat(H)                                #  defintion of rho\n",
    "    Z      = np.real(np.trace(rho))                   #  get Z\n",
    "    rho   /= Z                                        #  normalize such that Tr[rho] = 1\n",
    "    return rho\n",
    "\n",
    "def generate_w_random(seed):\n",
    "    rng    = np.random.default_rng(seed)      #  set random seed for reproduciblity\n",
    "    w      = rng.normal(size=(4,4))           #  get normal distributed weights\n",
    "    w[0,0] = 0\n",
    "    return w\n",
    "\n",
    "def generate_w(wx1x2, wy1y2, w1z2z, hx1, hx2, hy1, hy2, hz1, hz2):\n",
    "    return np.array([\n",
    "        [0,  hx2, hy2, hz2],\n",
    "        [hx1, wx1x2, 0,  0],\n",
    "        [hy1, 0,  wy1y2, 0],\n",
    "        [hz1, 0,  0,  w1z2z]\n",
    "    ])"
   ]
  },
  {
   "cell_type": "code",
   "execution_count": 202,
   "id": "95b2d956",
   "metadata": {},
   "outputs": [
    {
     "name": "stdout",
     "output_type": "stream",
     "text": [
      "s before flipping: [0 1] [0 0]\n",
      "s after flipping: [0 1]\n"
     ]
    }
   ],
   "source": [
    "s = np.random.choice([0, 1], size=(2))\n",
    "k = np.random.choice([0, 1], size=(2))\n",
    "\n",
    "print(\"s before flipping:\", s,k)\n",
    "\n",
    "# Use boolean indexing to flip elements of s based on k\n",
    "s[k == 1] = 1 - s[k == 1]\n",
    "\n",
    "print(\"s after flipping:\", s)\n"
   ]
  },
  {
   "cell_type": "code",
   "execution_count": 272,
   "id": "a1ba37e3",
   "metadata": {},
   "outputs": [],
   "source": [
    "def discrete_time_dynamics(w,t_vals,interactions):\n",
    "    \"\"\"\n",
    "    Get transition matrix from parameters; use it to update dyamics\n",
    "    \"\"\"\n",
    "    l = t_vals.shape[0]                             # amount of iterations\n",
    "    s_vals = np.zeros((l,2))                        # array to store valuess\n",
    "    H = hamiltonian2spins(w, interactions)          # get hamiltonian\n",
    "    s = np.random.choice([0, 1], size=(2))          # initialize spins\n",
    "\n",
    "    for i in range(l):\n",
    "        k  = np.random.choice([0, 1], size=(2))     # choose which spins to flip, also allow no flip or 2-spin flip\n",
    "        s[k == 1] = 1 - s[k == 1]                   # use boolean indexing to flip elements of s based on k\n",
    "        s_kron = np.kron(s,s)                       # get the state applicable to the Hamiltonian\n",
    "        g  = np.sum(np.exp(H @ s_kron))             # obtain probability of flip\n",
    "        \n",
    "        if g < np.random.rand():                    # accept state with proability g\n",
    "            s_vals[i] = s                           # store the flipped state\n",
    "        else:                                       # or reject it\n",
    "            s[k == 1] = 1 - s[k == 1]               # restore the original state\n",
    "            s_vals[i] = s                                 \n",
    "    return s_vals\n",
    "\n",
    "def generate_states(s_vals, t_vals):\n",
    "    \"\"\"Convert back to 0,1 formalism\"\"\"\n",
    "    states = np.zeros(len(t_vals))\n",
    "    for i in range(len(t_vals)):\n",
    "        if s_vals[i][0] == 0 and s_vals[i][1] == 0:\n",
    "            states[i] = 0\n",
    "\n",
    "        if s_vals[i][0] == 0 and s_vals[i][1] == 1:\n",
    "            states[i] = 1\n",
    "\n",
    "        if s_vals[i][0] == 1 and s_vals[i][1] == 0:\n",
    "            states[i] = 2\n",
    "\n",
    "        if s_vals[i][0] == 1 and s_vals[i][1] == 1:\n",
    "            states[i] = 3\n",
    "            \n",
    "    return states\n",
    "        "
   ]
  },
  {
   "cell_type": "code",
   "execution_count": 292,
   "id": "7d1b058c",
   "metadata": {},
   "outputs": [],
   "source": [
    "def plot_dynamics(s_vals, t_vals):\n",
    "    fig = plt.figure(figsize=(25, 6));                           #  make plots\n",
    "    fig.suptitle(\"WHOOOO\", fontsize=30, y = 1)\n",
    "    trans = mtransforms.ScaledTranslation(-20/72, 7/72, fig.dpi_scale_trans)\n",
    "\n",
    "    states = generate_states(s_vals,t_vals)\n",
    "    s1s2 = s_vals[:,0] * s_vals[:,1]\n",
    "\n",
    "\n",
    "    ax1 = fig.add_subplot(1, 2, 1)\n",
    "    ax1.plot(t_vals,states)\n",
    "    ax1.set_xlabel(\"time\", fontsize=20)\n",
    "    ax1.set_ylabel(\"states\", fontsize=20)\n",
    "    \n",
    "    ax2 = fig.add_subplot(1, 2, 2)\n",
    "    ax2.plot(t_vals,s_vals[:,0])\n",
    "    ax2.plot(t_vals,s_vals[:,1])\n",
    "    ax2.plot(t_vals,s1s2)\n",
    "    ax2.set_xlabel(\"time\", fontsize=20)\n",
    "    ax2.set_ylabel(\"states\", fontsize=20)"
   ]
  },
  {
   "cell_type": "code",
   "execution_count": 294,
   "id": "5a2b33d7",
   "metadata": {},
   "outputs": [],
   "source": [
    "#PARAMETERS\n",
    "dt = 0.01  #discrete time steps of simulation\n",
    "sim_time = 2 #time simulation should run\n",
    "t_vals = np.arange(0,sim_time,dt)\n",
    "\n",
    "#interaction parameters\n",
    "wx1x2 = 0\n",
    "wy1y2 = 0\n",
    "wz1z2 = 2\n",
    "hx1   = 0\n",
    "hx2   = 0\n",
    "hy1   = 0\n",
    "hy2   = 0\n",
    "hz1   = 1\n",
    "hz2   = 1\n",
    "    \n",
    "w = generate_w(wx1x2 ,wy1y2, wz1z2, hx1, hx2, hy1, hy2, hz1, hz2)\n",
    "interactions = generate_interaction_matrices()"
   ]
  },
  {
   "cell_type": "code",
   "execution_count": 299,
   "id": "7406f3b9",
   "metadata": {},
   "outputs": [
    {
     "data": {
      "image/png": "[encoded data removed]",
      "text/plain": [
       "<Figure size 2500x600 with 2 Axes>"
      ]
     },
     "metadata": {},
     "output_type": "display_data"
    }
   ],
   "source": [
    "s = discrete_time_dynamics(w,t_vals,interactions)\n",
    "plot_dynamics(s,t_vals)"
   ]
  }
 ],
 "metadata": {
  "kernelspec": {
   "display_name": "Python 3",
   "language": "python",
   "name": "python3"
  },
  "language_info": {
   "codemirror_mode": {
    "name": "ipython",
    "version": 3
   },
   "file_extension": ".py",
   "mimetype": "text/x-python",
   "name": "python",
   "nbconvert_exporter": "python",
   "pygments_lexer": "ipython3",
   "version": "3.9.16"
  }
 },
 "nbformat": 4,
 "nbformat_minor": 5
}
