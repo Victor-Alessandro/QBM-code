{
 "cells": [
  {
   "attachments": {},
   "cell_type": "markdown",
   "id": "52af13c7",
   "metadata": {},
   "source": [
    "## N-Qubit Boltzmann Machine"
   ]
  },
  {
   "attachments": {},
   "cell_type": "markdown",
   "id": "235793d9",
   "metadata": {},
   "source": [
    "We use a n-qubit system, where the goal is to learn the parameters of the Ising Hamiltonian:\n",
    "\n",
    "$H = \\sum_{i} \\sum_{j}\\sum_{k} \\sum_{k'} w_{ij}^{kk'} \\sigma_i^k \\otimes \\sigma_j^{k'} + \\sum_{i}\\sum_{k} h^k_i \\sigma_{i}^k$\n",
    "\n",
    "where $w_{ij}^{kk'}$ is the coupling strength, $h_i$ are the local fields, and $\\sigma_i^k$ are the Pauli operators. For the Pauli matrices, indexes $k=1,2,3$ correspond to $x,y,z$, index $k=0$ to the identity. The explicit Hamiltonian is written as:\n",
    "\n",
    "$H = \\sum_{k} \\sum_{k'} w_{ij}^{kk'} \\sigma_0^k \\otimes \\sigma_1^{k'} + h^k_0 \\sigma_0^k \\otimes \\sigma_1^0 + h^{k'}_1 \\sigma_0^0 \\otimes \\sigma_1^{k'}$\n",
    "\n",
    "A vector state follows the numbering convention $|s_0, \\dots, s_n>$"
   ]
  },
  {
   "cell_type": "code",
   "execution_count": 1,
   "id": "83126120",
   "metadata": {},
   "outputs": [],
   "source": [
    "import numpy as np\n",
    "import matplotlib.pyplot as plt\n",
    "import matplotlib.transforms as mtransforms\n",
    "from numba import njit\n",
    "from itertools import product\n",
    "from scipy.linalg import kron"
   ]
  },
  {
   "cell_type": "code",
   "execution_count": 2,
   "id": "a2db9284",
   "metadata": {},
   "outputs": [],
   "source": [
    "# define the Pauli matrices globally\n",
    "PAULI_I = np.array([[1, 0], [0, 1]], dtype=np.complex128)\n",
    "PAULI_X = np.array([[0, 1], [1, 0]], dtype=np.complex128)\n",
    "PAULI_Y = np.array([[0, -1j], [1j, 0]], dtype=np.complex128)\n",
    "PAULI_Z = np.array([[1, 0], [0, -1]], dtype=np.complex128)\n",
    "\n",
    "# create an array of Pauli matrices and their labels\n",
    "PAULI_MATRICES = np.array([PAULI_I, PAULI_X, PAULI_Y, PAULI_Z], dtype=np.complex128)\n",
    "PAULI_LABELS = ['I', 'X', 'Y', 'Z']"
   ]
  },
  {
   "cell_type": "code",
   "execution_count": 3,
   "id": "43d6dcf2",
   "metadata": {},
   "outputs": [],
   "source": [
    "def tensor_product(matrices):\n",
    "    \"\"\"Compute the tensor product of a list of matrices.\"\"\"\n",
    "    result = matrices[0]\n",
    "    # iterate over each matrix in the list starting from the second one\n",
    "    for matrix in matrices[1:]:\n",
    "        result = kron(result, matrix)\n",
    "    return result\n",
    " \n",
    "def generate_interaction_matrices(num_qubits):\n",
    "    \"\"\"Constructs the tensor product of Pauli matrices for each qubit pair.\"\"\"\n",
    "    num_combinations = 4 ** num_qubits # total number of combinations of Pauli matrices for num_qubits\n",
    "    interaction_matrices = np.empty((num_combinations, 2 ** num_qubits, 2 ** num_qubits), dtype=np.complex128) \n",
    "    interaction_labels = np.empty((num_combinations, num_qubits), dtype=object)\n",
    "\n",
    "    # initialize an empty dictionary to store the weights associated with each interaction matrix\n",
    "    interaction_weights = {}\n",
    "\n",
    "    # enumerate over all possible combinations of Pauli matrices for num_qubits\n",
    "    for idx, matrix_indices in enumerate(product(range(4), repeat=num_qubits)):\n",
    "        # select the corresponding Pauli matrices for the current combination\n",
    "        matrices = PAULI_MATRICES[list(matrix_indices)]\n",
    "        # compute the tensor product of the selected matrices\n",
    "        interaction_matrix = tensor_product(matrices)\n",
    "\n",
    "        # store the computed tensor product matrix and its corresponding labe\n",
    "        interaction_matrices[idx] = interaction_matrix\n",
    "        label_tuple = tuple(PAULI_LABELS[i] for i in matrix_indices)\n",
    "        interaction_labels[idx] = label_tuple\n",
    "\n",
    "        # initialize the weight associated with this interaction matrix\n",
    "        # by default, it is set to None. You can change it later.\n",
    "        interaction_weights[label_tuple] = None\n",
    "\n",
    "    return interaction_matrices, interaction_labels, interaction_weights"
   ]
  },
  {
   "attachments": {},
   "cell_type": "markdown",
   "id": "5e0aa207",
   "metadata": {},
   "source": [
    "\"interaction_matrices\" is an array that holds the tensor product of Pauli matrices for each possible combination of qubits. It is ordered lexicographically. For a 3-qubit system the first entries look like this:  "
   ]
  },
  {
   "cell_type": "code",
   "execution_count": 4,
   "id": "00c1a10a",
   "metadata": {},
   "outputs": [
    {
     "name": "stdout",
     "output_type": "stream",
     "text": [
      "['I' 'I' 'I']\n",
      "['I' 'I' 'X']\n",
      "['I' 'I' 'Y']\n",
      "['I' 'I' 'Z']\n",
      "['I' 'X' 'I']\n",
      "['I' 'X' 'X']\n",
      "['I' 'X' 'Y']\n",
      "['I' 'X' 'Z']\n",
      "['I' 'Y' 'I']\n",
      "['I' 'Y' 'X']\n"
     ]
    }
   ],
   "source": [
    "def print_matrix(matrix):\n",
    "    for row in matrix:\n",
    "        print('[', end='')\n",
    "        for elem in row:\n",
    "            real = elem.real\n",
    "            imag = elem.imag\n",
    "            if abs(real) < 1e-10 and abs(imag) < 1e-10:\n",
    "                print(\"0\", end=' ')\n",
    "            elif abs(real) < 1e-10:\n",
    "                print(f\"{imag:.0f}j\", end=' ')\n",
    "            elif abs(imag) < 1e-10:\n",
    "                print(f\"{real:.0f}\", end=' ')\n",
    "            else:\n",
    "                print(f\"{real:.0f}+{imag:.2f}j\", end=' ')\n",
    "        print(']')\n",
    "    print()\n",
    "    \n",
    "\n",
    "interactions, interaction_labels, interaction_weights = generate_interaction_matrices(3)\n",
    "\n",
    "for i, label in enumerate(interaction_labels[:10]):\n",
    "    print(label)\n",
    "    # print_matrix(interactions[i])  #uncomment to see the associated matrix with each label"
   ]
  },
  {
   "cell_type": "code",
   "execution_count": 5,
   "id": "58d0a8fa",
   "metadata": {},
   "outputs": [],
   "source": [
    "interaction_matrices, interaction_labels, interaction_weights = generate_interaction_matrices(3)\n",
    "\n",
    "# we can set the weights using the interaction labels, weights that are not defined get set to None (0)\n",
    "interaction_weights[('I', 'I', 'I')] = .1\n",
    "interaction_weights[('I', 'I', 'X')] = .2\n",
    "interaction_weights[('I', 'I', 'Y')] = .3\n",
    "interaction_weights[('I', 'I', 'Z')] = .4\n",
    "interaction_weights[('I', 'X', 'I')] = .5\n",
    "interaction_weights[('I', 'X', 'X')] = .6\n",
    "interaction_weights[('I', 'X', 'Y')] = .7\n"
   ]
  },
  {
   "attachments": {},
   "cell_type": "markdown",
   "id": "22d6abf3",
   "metadata": {},
   "source": [
    "Let's test if this works as intended:"
   ]
  },
  {
   "cell_type": "code",
   "execution_count": 6,
   "id": "9098f46b",
   "metadata": {},
   "outputs": [],
   "source": [
    "def test_interaction(label_tuple, interaction_matrices, interaction_labels, interaction_weights):\n",
    "    \"\"\"\n",
    "    Given an interaction label, prints the associated interaction matrix and the associated weight.\n",
    "    \"\"\"\n",
    "    # Find the index of the label tuple in interaction_labels\n",
    "    idx = np.where(np.all(interaction_labels == label_tuple, axis=1))[0][0]\n",
    "\n",
    "    # Fetch the corresponding interaction matrix\n",
    "    interaction_matrix = interaction_matrices[idx]\n",
    "\n",
    "    # Fetch the corresponding weight\n",
    "    weight = interaction_weights.get(label_tuple, None)\n",
    "\n",
    "    print(\"Interaction Matrix for {}: \\n\".format(label_tuple))\n",
    "    print_matrix(interaction_matrix)\n",
    "    print(\"Associated weight: \", weight)"
   ]
  },
  {
   "cell_type": "code",
   "execution_count": 7,
   "id": "057f62f4",
   "metadata": {},
   "outputs": [
    {
     "name": "stdout",
     "output_type": "stream",
     "text": [
      "Interaction Matrix for ('I', 'X', 'Y'): \n",
      "\n",
      "[0 0 0 -1j 0 0 0 0 ]\n",
      "[0 0 1j 0 0 0 0 0 ]\n",
      "[0 -1j 0 0 0 0 0 0 ]\n",
      "[1j 0 0 0 0 0 0 0 ]\n",
      "[0 0 0 0 0 0 0 -1j ]\n",
      "[0 0 0 0 0 0 1j 0 ]\n",
      "[0 0 0 0 0 -1j 0 0 ]\n",
      "[0 0 0 0 1j 0 0 0 ]\n",
      "\n",
      "Associated weight:  0.7\n",
      "Interaction Matrix for ('Z', 'X', 'Y'): \n",
      "\n",
      "[0 0 0 -1j 0 0 0 0 ]\n",
      "[0 0 1j 0 0 0 0 0 ]\n",
      "[0 -1j 0 0 0 0 0 0 ]\n",
      "[1j 0 0 0 0 0 0 0 ]\n",
      "[0 0 0 0 0 0 0 1j ]\n",
      "[0 0 0 0 0 0 -1j 0 ]\n",
      "[0 0 0 0 0 1j 0 0 ]\n",
      "[0 0 0 0 -1j 0 0 0 ]\n",
      "\n",
      "Associated weight:  None\n"
     ]
    }
   ],
   "source": [
    "test_interaction(('I', 'X', 'Y'), interaction_matrices, interaction_labels, interaction_weights)\n",
    "test_interaction(('Z', 'X', 'Y'), interaction_matrices, interaction_labels, interaction_weights)"
   ]
  },
  {
   "attachments": {},
   "cell_type": "markdown",
   "id": "f9af33ca",
   "metadata": {},
   "source": [
    "To make our code compatible with numba, we can't use the dictionary. We need a way to translate the dictionary into a numpy array."
   ]
  },
  {
   "cell_type": "code",
   "execution_count": 16,
   "id": "bd0db86a",
   "metadata": {},
   "outputs": [],
   "source": [
    "def weights_dict_to_array(interaction_labels, interaction_weights):\n",
    "    \"\"\"\n",
    "    Converts the interaction_weights dictionary to a numpy array based on the order of interaction_labels.\n",
    "    \"\"\"\n",
    "    weights_array = np.array([interaction_weights[tuple(label)] if interaction_weights[tuple(label)] is not None else 0 for label in interaction_labels])\n",
    "    return weights_array\n",
    "\n",
    "def weights_array_to_dict(interaction_labels, weights_array):\n",
    "    \"\"\"\n",
    "    Converts a numpy array to an interaction_weights dictionary based on the order of interaction_labels.\n",
    "    \"\"\"\n",
    "    interaction_weights = {tuple(label): weights_array[i] for i, label in enumerate(interaction_labels)}\n",
    "    return interaction_weights\n",
    "\n",
    "def generate_random_parameter_matrix(random_seed, num_qubits, interaction_labels):\n",
    "    \"\"\"\n",
    "    Generates a random parameter array for the random seed value random_seed.\n",
    "    Interactions containing more than 2 instances of 'I' are set to zero.\n",
    "    \"\"\"\n",
    "    np.random.seed(random_seed)  # set the random seed value\n",
    "    num_params = 4**num_qubits   # calculate the number of parameters for the weight matrix\n",
    "    w_array = np.random.rand(num_params)  # generate a random parameter array of size num_params\n",
    "\n",
    "    # iterate over the interaction labels\n",
    "    for i, label_tuple in enumerate(interaction_labels):\n",
    "        # count the number of 'I' in the current label tuple\n",
    "        num_I = np.count_nonzero(label_tuple == 'I')\n",
    "        # if there are more than 2 'I', set the corresponding weight to 0\n",
    "        if num_I < num_qubits - 2:\n",
    "            w_array[i] = 0\n",
    "\n",
    "    w_array[0] = 0 # -log(Z) = 0\n",
    "    return w_array\n"
   ]
  },
  {
   "attachments": {},
   "cell_type": "markdown",
   "id": "92e67343",
   "metadata": {},
   "source": [
    "test if it works:"
   ]
  },
  {
   "cell_type": "code",
   "execution_count": 17,
   "id": "ce4e5d54",
   "metadata": {},
   "outputs": [
    {
     "name": "stdout",
     "output_type": "stream",
     "text": [
      "Weights dictionary:  {('I', 'I'): 0.0, ('I', 'X'): 0.8441866428504345, ('I', 'Y'): 0.6765143359376254, ('I', 'Z'): 0.7278580572480748, ('X', 'I'): 0.9514579574463393, ('X', 'X'): 0.012703197034767633, ('X', 'Y'): 0.41358769878652346, ('X', 'Z'): 0.04881279380000003, ('Y', 'I'): 0.09992856132121142, ('Y', 'X'): 0.5080663057670065, ('Y', 'Y'): 0.20024753933447748, ('Y', 'Z'): 0.744154168814097, ('Z', 'I'): 0.19289200304058374, ('Z', 'X'): 0.7008447521659813, ('Z', 'Y'): 0.293228105869234, ('Z', 'Z'): 0.7744794542685887}\n",
      "Weights array: \n",
      "  [0.         0.84418664 0.67651434 0.72785806 0.95145796 0.0127032\n",
      " 0.4135877  0.04881279 0.09992856 0.50806631 0.20024754 0.74415417\n",
      " 0.192892   0.70084475 0.29322811 0.77447945]\n"
     ]
    }
   ],
   "source": [
    "# generate random weights array\n",
    "random_seed = 666\n",
    "num_qubits = 2\n",
    "interaction_matrices, interaction_labels, interaction_weights = generate_interaction_matrices(num_qubits)\n",
    "w_random = generate_random_parameter_matrix(random_seed, num_qubits, interaction_labels)\n",
    "\n",
    "# numpy array to weights dictionary\n",
    "interaction_weights = weights_array_to_dict(interaction_labels, w_random)\n",
    "print(\"Weights dictionary: \", interaction_weights)\n",
    "\n",
    "# Weights dictionary to numpy array\n",
    "weights_array = weights_dict_to_array(interaction_labels, interaction_weights) # Pass the dictionary here\n",
    "print(\"Weights array: \\n \", weights_array)"
   ]
  },
  {
   "attachments": {},
   "cell_type": "markdown",
   "id": "de605220",
   "metadata": {},
   "source": [
    "ok thats all cool now we can run the thing"
   ]
  },
  {
   "cell_type": "code",
   "execution_count": 10,
   "id": "60ce2ea7",
   "metadata": {},
   "outputs": [],
   "source": [
    "@njit\n",
    "def expmat(A):\n",
    "    \"\"\"\n",
    "    Computes the exponential of a given matrix `A'.\n",
    "    \"\"\"\n",
    "    A = 0.5 * (A + np.transpose(np.conjugate(A)))\n",
    "    evals, evecs = np.linalg.eigh(A)\n",
    "    N = len(evals)\n",
    "    res = np.zeros((N,N),np.complex128)\n",
    "    for i in range(N):\n",
    "        eigenvector = evecs[:,i]\n",
    "        projector = np.outer(eigenvector,eigenvector.conj())\n",
    "        res += np.exp(evals[i]) * projector\n",
    "    return res\n",
    "\n",
    "@njit\n",
    "def logmat(A):\n",
    "    \"\"\"\n",
    "    Computes the natural logarithm of a given matrix `A`.\n",
    "    \"\"\"\n",
    "    A = 0.5 * (A + np.transpose(np.conjugate(A)))\n",
    "    evals, evecs = np.linalg.eigh(A)\n",
    "    N = len(evals)\n",
    "    res = np.zeros((N,N),np.complex128)\n",
    "    for i in range(N):\n",
    "        eigenvector = evecs[:,i]\n",
    "        projector = np.outer(eigenvector,eigenvector.conj())\n",
    "        res += np.log(evals[i]) * projector\n",
    "    return res\n",
    "\n",
    "@njit\n",
    "def hamiltonian_n_qubits(interaction_weights, interaction_matrices):\n",
    "    \"\"\"\n",
    "    Calculates the Hamiltonian matrix of an n-qubit system\n",
    "    \"\"\"\n",
    "    num_qubits = int(np.log2(interaction_matrices.shape[1]))\n",
    "    H = np.zeros((2**num_qubits, 2**num_qubits), dtype=np.complex128)\n",
    "    for i in range(len(interaction_weights)):\n",
    "        H += interaction_weights[i] * interaction_matrices[i]\n",
    "\n",
    "    return H\n",
    "\n",
    "@njit\n",
    "def rho_model(interaction_weights, interaction_matrices):\n",
    "    \"\"\"\n",
    "    Computes the density matrix of an n-qubit system using the Hamiltonian\n",
    "    and the interaction matrices, and then normalizes it. Exact Diagonalization.\n",
    "    \"\"\"\n",
    "    H = hamiltonian_n_qubits(interaction_weights, interaction_matrices)  # get Hamiltonian matrix\n",
    "    rho = expmat(H)                                        # definition of rho\n",
    "    Z = np.real(np.trace(rho))                             # get Z\n",
    "    rho /= Z                                               # normalize such that Tr[rho] = 1\n",
    "    return rho \n",
    "\n",
    "@njit\n",
    "def observables(rho, interaction_matrices):\n",
    "    \"\"\"\n",
    "    Computes the expectation values of the interaction matrices [observables]\n",
    "    \"\"\"\n",
    "    obs = np.zeros(len(interaction_matrices), dtype=np.complex128)            # initialize obserables array to store\n",
    "\n",
    "    for i, interaction_matrix in enumerate(interaction_matrices):   \n",
    "        obs[i] = np.real(np.trace(np.dot(rho, interaction_matrix)))        # compute the expectation value for the current interaction matrix\n",
    "    return obs\n",
    "\n",
    "@njit\n",
    "def KL_divergence(eta,rho):\n",
    "    \"\"\"\n",
    "    Calculates the KL divergence between the model and target distribution.\n",
    "    \"\"\"\n",
    "    return np.real(np.trace(eta@(logmat(eta)-logmat(rho))))\n",
    "\n",
    "@njit\n",
    "def QM_likelihood(eta,rho):\n",
    "    \"\"\"\n",
    "    Calculates the quantum Likelihood of the distribution\n",
    "    \"\"\"\n",
    "    return -np.real(np.trace(eta @ logmat(rho)))"
   ]
  },
  {
   "cell_type": "code",
   "execution_count": 11,
   "id": "07912fb4",
   "metadata": {},
   "outputs": [],
   "source": [
    "###  PLOTTING FUNCTIONS\n",
    "#----------------------------------------------------------------------\n",
    "def plot(it, Wmax, kl, lk, title='Convergence Plots', size=10):\n",
    "    fig = plt.figure(figsize=(25, 6));                           #  make plots\n",
    "    fig.suptitle(title, fontsize=30, y = 1)\n",
    "    trans = mtransforms.ScaledTranslation(-20/72, 7/72, fig.dpi_scale_trans)\n",
    "    its= np.arange(1,it+1,1)\n",
    "\n",
    "    ax1 = fig.add_subplot(1, 3, 1)\n",
    "    ax1.scatter(its, Wmax[:it], s=size, marker='o', color=\"Coral\")\n",
    "    ax1.set_xlabel(\"Iterations\", fontsize=20)\n",
    "    ax1.set_ylabel(r\"$ (\\Delta w)_{max}$\", fontsize=20)\n",
    "    ax1.set_yscale('log')\n",
    "    ax1.text(0, 1.0, 'A.)', transform=ax1.transAxes + trans, fontsize='large',fontweight ='bold', va='bottom', fontfamily='sans-serif')\n",
    "   \n",
    "\n",
    "    ax2 = fig.add_subplot(1, 3, 2)\n",
    "    ax2.scatter(its, kl[:it], s=size, marker='o', color=\"ForestGreen\")\n",
    "    ax2.set_xlabel(\"Iterations\", fontsize=20)\n",
    "    ax2.set_ylabel(\"KL Divergence\", fontsize=20)\n",
    "    ax2.set_yscale('log')\n",
    "    ax2.text(0, 1.0, 'B.)', transform=ax2.transAxes + trans, fontsize='large',fontweight ='bold', va='bottom', fontfamily='sans-serif')\n",
    "\n",
    "    ax3 = fig.add_subplot(1, 3, 3)\n",
    "    ax3.scatter(its, lk[:it], s=size, marker='o', color=\"HotPink\")\n",
    "    ax3.set_xlabel(\"Iterations\", fontsize=20)\n",
    "    ax3.set_ylabel(\"Log Likelihood\", fontsize=20)\n",
    "    ax3.set_yscale('log')\n",
    "    ax3.set_ylim([0.482015, 0.482030])\n",
    "    ax3.text(0, 1.0, 'B.)', transform=ax3.transAxes + trans, fontsize='large',fontweight ='bold', va='bottom', fontfamily='sans-serif')"
   ]
  },
  {
   "cell_type": "code",
   "execution_count": 12,
   "id": "884840a4",
   "metadata": {},
   "outputs": [],
   "source": [
    "@njit\n",
    "def quantum_boltzmann_machine(interaction_matrices, learning_rate, maxiter, tolerance, w_initial, w_eta=None, eta=None):\n",
    "    \"\"\"\n",
    "    Train the model to fit the target distribution eta.\n",
    "    \"\"\"\n",
    "\n",
    "    # compute target density matrix using ED if oracle w_eta is provided, otherwise use provided eta\n",
    "    if w_eta is not None:\n",
    "        eta = rho_model(w_eta, interaction_matrices)\n",
    "        \n",
    "    obs_clamped = observables(eta, interaction_matrices)  # get clamped QM statistics\n",
    "\n",
    "    w = w_initial.copy()  # get initial weights for free QM statistics\n",
    "    rho = rho_model(w, interaction_matrices)  # generate the density matrix rho for the initial weights\n",
    "    obs_model = observables(rho, interaction_matrices)  # get free QM statistics\n",
    "\n",
    "    it = 0  # initialize gradient ascent loop\n",
    "    diff = np.inf\n",
    "    W_list, lk_list, kl_list = np.zeros(maxiter), np.zeros(maxiter), np.zeros(maxiter)  # initialize values to store\n",
    "\n",
    "    while diff > tolerance and it < maxiter:\n",
    "        rho = rho_model(w, interaction_matrices)  # get free QM statistics\n",
    "        obs_model = observables(rho, interaction_matrices)\n",
    "        w_previous = w.copy()\n",
    "        w += learning_rate * np.real(obs_clamped - obs_model)  # Update weights\n",
    "\n",
    "        if w_eta is None:\n",
    "            W_diff = np.max(np.abs(w - w_previous))\n",
    "            W_list[it] = W_diff\n",
    "\n",
    "        elif w_eta is not None:\n",
    "            Wmax = np.max(np.abs(w-w_eta))\n",
    "            W_list[it] = Wmax                  \n",
    "\n",
    "        diff = np.max(np.abs(obs_model - obs_clamped))  # evaluate differences in clamped and model statistics\n",
    "\n",
    "        lk_list[it] = QM_likelihood(eta, rho)\n",
    "        kl_list[it] = KL_divergence(eta, rho)\n",
    "        it += 1\n",
    "\n",
    "    return w, lk_list, kl_list, W_list, it\n",
    "\n"
   ]
  },
  {
   "attachments": {},
   "cell_type": "markdown",
   "id": "b90c42f6",
   "metadata": {},
   "source": [
    "# Results 2-qubit system"
   ]
  },
  {
   "cell_type": "code",
   "execution_count": 20,
   "id": "ae0f3829",
   "metadata": {},
   "outputs": [
    {
     "name": "stdout",
     "output_type": "stream",
     "text": [
      "Oracle Interaction Weights: [0.         0.04785513 0.94447198 0.68638004 0.58120733 0.14267862\n",
      " 0.94591918 0.33999059 0.62043546 0.45295964 0.23976742 0.03450459\n",
      " 0.14859311 0.81086617 0.65310538 0.54446869 0.04119477 0.46816625\n",
      " 0.88874673 0.47625856 0.41248898 0.         0.         0.\n",
      " 0.39661405 0.         0.         0.         0.62906175 0.\n",
      " 0.         0.         0.13527229 0.16993754 0.22083031 0.08667048\n",
      " 0.04684007 0.         0.         0.         0.61336246 0.\n",
      " 0.         0.         0.63817852 0.         0.         0.\n",
      " 0.97262407 0.46770304 0.40747027 0.78609188 0.3715351  0.\n",
      " 0.         0.         0.14734301 0.         0.         0.\n",
      " 0.06210298 0.         0.         0.        ]\n",
      "QBM Recovered Interaction Weights: [ 1.72067027e-11  4.78551326e-02  9.44471978e-01  6.86380040e-01\n",
      "  5.81207334e-01  1.42678616e-01  9.45919181e-01  3.39990587e-01\n",
      "  6.20435458e-01  4.52959644e-01  2.39767420e-01  3.45045909e-02\n",
      "  1.48593113e-01  8.10866174e-01  6.53105376e-01  5.44468685e-01\n",
      "  4.11947655e-02  4.68166251e-01  8.88746732e-01  4.76258557e-01\n",
      "  4.12488984e-01  1.78942122e-12  1.44269995e-11 -1.63296467e-11\n",
      "  3.96614050e-01 -1.00502550e-12  3.58483656e-11  1.32419248e-11\n",
      "  6.29061747e-01 -1.20794685e-12 -2.35120681e-12 -1.19995659e-11\n",
      "  1.35272291e-01  1.69937536e-01  2.20830313e-01  8.66704750e-02\n",
      "  4.68400689e-02 -1.52672338e-11  3.80902965e-12  1.35325359e-13\n",
      "  6.13362455e-01 -2.14188647e-11  4.02123753e-12  1.65990225e-11\n",
      "  6.38178521e-01 -2.03571140e-12  1.23018553e-11  1.34150290e-11\n",
      "  9.72624065e-01  4.67703036e-01  4.07470269e-01  7.86091879e-01\n",
      "  3.71535104e-01 -4.23532023e-12  1.96688650e-11  2.63374543e-11\n",
      "  1.47343012e-01  1.76408869e-11 -2.58339801e-11  2.44057840e-11\n",
      "  6.21029808e-02  2.11016215e-11  7.65493329e-12 -4.25555921e-12]\n"
     ]
    }
   ],
   "source": [
    "# 2-Qubit system parameters\n",
    "num_qubits = 3\n",
    "random_seed = 555\n",
    "# generate interaction matrices and labels for up to 2-body interactions\n",
    "interaction_matrices, interaction_labels, interaction_weights = generate_interaction_matrices(num_qubits)\n",
    "\n",
    "# randomly assign weights to each of the 16 possible interactions\n",
    "interaction_weights_oracle = generate_random_parameter_matrix(random_seed,num_qubits,interaction_labels)\n",
    "\n",
    "# generate the target density matrix using the oracle interaction_weights\n",
    "eta = rho_model(interaction_weights_oracle, interaction_matrices)\n",
    "\n",
    "# learning parameters\n",
    "learning_rate = 0.6\n",
    "maxiter = 2**20\n",
    "tolerance = 1e-14\n",
    "\n",
    "#initial weights \n",
    "w_initial= generate_random_parameter_matrix(random_seed + 1, num_qubits, interaction_labels)\n",
    "\n",
    "\n",
    "# Train the Quantum Boltzmann Machine to recover the oracle interaction weights\n",
    "interaction_weights_qbm, lk, kl, Wdiff, it = quantum_boltzmann_machine(interaction_matrices, learning_rate, maxiter, tolerance, w_initial, eta = eta)\n",
    "\n",
    "# Print the recovered interaction weights and the oracle interaction weights for comparison\n",
    "print(\"Oracle Interaction Weights:\", interaction_weights_oracle)\n",
    "print(\"QBM Recovered Interaction Weights:\", interaction_weights_qbm)\n"
   ]
  },
  {
   "cell_type": "code",
   "execution_count": 21,
   "id": "dfdc6cb4",
   "metadata": {},
   "outputs": [
    {
     "data": {
      "image/png": "[encoded data removed]",
      "text/plain": [
       "<Figure size 2500x600 with 3 Axes>"
      ]
     },
     "metadata": {},
     "output_type": "display_data"
    }
   ],
   "source": [
    "plot(it, Wdiff, kl, lk, title='Convergence Plots', size=10)\n",
    "plt.savefig('Figures/N Qubit QBM/convergence', bbox_inches='tight')"
   ]
  },
  {
   "cell_type": "code",
   "execution_count": null,
   "id": "1b41a990",
   "metadata": {},
   "outputs": [],
   "source": [
    "np.set_printoptions(formatter={'float_kind':\"{:.6f}\".format}) # print matrices in 2 decimals\n",
    "#np.set_printoptions(formatter={'complex_kind': lambda x: \"{:.2f}+{:.2f}j\".format(x.real, x.imag)})\n",
    "\n",
    "print(np.abs(w-w_eta))"
   ]
  },
  {
   "attachments": {},
   "cell_type": "markdown",
   "id": "8ae3e744",
   "metadata": {},
   "source": [
    "# Results 3-qubit system"
   ]
  },
  {
   "cell_type": "code",
   "execution_count": null,
   "id": "18d36773",
   "metadata": {},
   "outputs": [],
   "source": [
    "#learning parameters\n",
    "learning_rate = 0.1    #  learning rate \n",
    "maxiter  = 200         #  iterations\n",
    "tolerance = 1e-10      #  tolerance\n",
    "random_seed = 555\n",
    "num_qubits = 6\n",
    "\n",
    "interactions     = generate_interaction_matrices(num_qubits)     #  generate interaction matrices"
   ]
  },
  {
   "cell_type": "code",
   "execution_count": null,
   "id": "06f079c2",
   "metadata": {},
   "outputs": [],
   "source": [
    "interaction_matrices     = generate_interaction_matrices(6)     #  generate interaction matrices]\n",
    "print(interaction_matrices.shape)"
   ]
  },
  {
   "cell_type": "code",
   "execution_count": null,
   "id": "404003f3",
   "metadata": {},
   "outputs": [],
   "source": [
    "w, w_eta, KL, Wmax, it = learn_w(interactions, learning_rate, maxiter, tolerance, random_seed, num_qubits)\n",
    "plot(it, KL, Wmax, title='Convergence Plots', size=10)\n",
    "plt.savefig('Figures/N Qubit QBM/convergence', bbox_inches='tight')\n",
    "print(Wmax)"
   ]
  },
  {
   "cell_type": "code",
   "execution_count": null,
   "id": "e186447a",
   "metadata": {},
   "outputs": [],
   "source": [
    "np.set_printoptions(formatter={'float_kind':\"{:.6f}\".format}) # print matrices in 2 decimals\n",
    "#np.set_printoptions(formatter={'complex_kind': lambda x: \"{:.2f}+{:.2f}j\".format(x.real, x.imag)})\n",
    "\n",
    "print(np.abs(w-w_eta))"
   ]
  },
  {
   "attachments": {},
   "cell_type": "markdown",
   "id": "cfafb78b",
   "metadata": {},
   "source": [
    "# Results 4-Qubit system"
   ]
  },
  {
   "cell_type": "code",
   "execution_count": null,
   "id": "a7c10751",
   "metadata": {},
   "outputs": [],
   "source": [
    "#learning parameters\n",
    "learning_rate       = 0.5      #  learning rate \n",
    "maxiter  = 2**16    #  iterations\n",
    "tolerance      = 1e-10    #  tolerance\n",
    "random_seed = 555\n",
    "num_qubits = 4\n",
    "\n",
    "interactions     = generate_interaction_matrices(num_qubits)     #  generate interaction matrices"
   ]
  },
  {
   "cell_type": "code",
   "execution_count": null,
   "id": "a3a21e3f",
   "metadata": {},
   "outputs": [],
   "source": [
    "w, w_eta, KL, Wmax, it = learn_w(interaction_matrices, learning_rate, maxiter, tolerance, eta_seed, num_qubits)\n",
    "plot(it, KL, Wmax, title='Convergence Plots', size=10)\n",
    "plt.savefig('Figures/N Qubit QBM/convergence', bbox_inches='tight')"
   ]
  },
  {
   "cell_type": "code",
   "execution_count": null,
   "id": "3d90cd70",
   "metadata": {},
   "outputs": [],
   "source": [
    "np.set_printoptions(formatter={'float_kind':\"{:.6f}\".format}) # print matrices in 2 decimals\n",
    "#np.set_printoptions(formatter={'complex_kind': lambda x: \"{:.2f}+{:.2f}j\".format(x.real, x.imag)})\n",
    "\n",
    "print(np.abs(w-w_eta))"
   ]
  },
  {
   "attachments": {},
   "cell_type": "markdown",
   "id": "c9b5b553",
   "metadata": {},
   "source": [
    "# Test ground"
   ]
  },
  {
   "cell_type": "code",
   "execution_count": null,
   "id": "69c03c13",
   "metadata": {},
   "outputs": [],
   "source": []
  },
  {
   "attachments": {},
   "cell_type": "markdown",
   "id": "09ffa343",
   "metadata": {},
   "source": []
  }
 ],
 "metadata": {
  "kernelspec": {
   "display_name": "Python 3",
   "language": "python",
   "name": "python3"
  },
  "language_info": {
   "codemirror_mode": {
    "name": "ipython",
    "version": 3
   },
   "file_extension": ".py",
   "mimetype": "text/x-python",
   "name": "python",
   "nbconvert_exporter": "python",
   "pygments_lexer": "ipython3",
   "version": "3.9.16"
  }
 },
 "nbformat": 4,
 "nbformat_minor": 5
}
